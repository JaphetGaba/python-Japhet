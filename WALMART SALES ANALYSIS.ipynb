{
 "cells": [
  {
   "cell_type": "code",
   "execution_count": null,
   "id": "ee305ea6",
   "metadata": {},
   "outputs": [],
   "source": []
  },
  {
   "cell_type": "markdown",
   "id": "59f71335",
   "metadata": {},
   "source": [
    "**Importation of necessary libraries**"
   ]
  },
  {
   "cell_type": "code",
   "execution_count": null,
   "id": "f3d0cd01",
   "metadata": {},
   "outputs": [],
   "source": [
    "import pandas as pd\n",
    "import matplotlib.pyplot as plt\n",
    "import seaborn as sns\n",
    "import numpy as np "
   ]
  },
  {
   "cell_type": "markdown",
   "id": "29ff8aaa",
   "metadata": {},
   "source": [
    "***importation of data***"
   ]
  },
  {
   "cell_type": "code",
   "execution_count": null,
   "id": "656927e3",
   "metadata": {},
   "outputs": [],
   "source": []
  },
  {
   "cell_type": "code",
   "execution_count": 35,
   "id": "c2302446",
   "metadata": {},
   "outputs": [
    {
     "name": "stderr",
     "output_type": "stream",
     "text": [
      "C:\\Users\\bbjaphet\\anaconda3\\lib\\site-packages\\pandas\\core\\tools\\datetimes.py:1063: UserWarning: Parsing '19-02-2010' in DD/MM/YYYY format. Provide format or specify infer_datetime_format=True for consistent parsing.\n",
      "  cache_array = _maybe_cache(arg, format, cache, convert_listlike)\n",
      "C:\\Users\\bbjaphet\\anaconda3\\lib\\site-packages\\pandas\\core\\tools\\datetimes.py:1063: UserWarning: Parsing '26-02-2010' in DD/MM/YYYY format. Provide format or specify infer_datetime_format=True for consistent parsing.\n",
      "  cache_array = _maybe_cache(arg, format, cache, convert_listlike)\n",
      "C:\\Users\\bbjaphet\\anaconda3\\lib\\site-packages\\pandas\\core\\tools\\datetimes.py:1063: UserWarning: Parsing '19-03-2010' in DD/MM/YYYY format. Provide format or specify infer_datetime_format=True for consistent parsing.\n",
      "  cache_array = _maybe_cache(arg, format, cache, convert_listlike)\n",
      "C:\\Users\\bbjaphet\\anaconda3\\lib\\site-packages\\pandas\\core\\tools\\datetimes.py:1063: UserWarning: Parsing '26-03-2010' in DD/MM/YYYY format. Provide format or specify infer_datetime_format=True for consistent parsing.\n",
      "  cache_array = _maybe_cache(arg, format, cache, convert_listlike)\n",
      "C:\\Users\\bbjaphet\\anaconda3\\lib\\site-packages\\pandas\\core\\tools\\datetimes.py:1063: UserWarning: Parsing '16-04-2010' in DD/MM/YYYY format. Provide format or specify infer_datetime_format=True for consistent parsing.\n",
      "  cache_array = _maybe_cache(arg, format, cache, convert_listlike)\n",
      "C:\\Users\\bbjaphet\\anaconda3\\lib\\site-packages\\pandas\\core\\tools\\datetimes.py:1063: UserWarning: Parsing '23-04-2010' in DD/MM/YYYY format. Provide format or specify infer_datetime_format=True for consistent parsing.\n",
      "  cache_array = _maybe_cache(arg, format, cache, convert_listlike)\n",
      "C:\\Users\\bbjaphet\\anaconda3\\lib\\site-packages\\pandas\\core\\tools\\datetimes.py:1063: UserWarning: Parsing '30-04-2010' in DD/MM/YYYY format. Provide format or specify infer_datetime_format=True for consistent parsing.\n",
      "  cache_array = _maybe_cache(arg, format, cache, convert_listlike)\n",
      "C:\\Users\\bbjaphet\\anaconda3\\lib\\site-packages\\pandas\\core\\tools\\datetimes.py:1063: UserWarning: Parsing '14-05-2010' in DD/MM/YYYY format. Provide format or specify infer_datetime_format=True for consistent parsing.\n",
      "  cache_array = _maybe_cache(arg, format, cache, convert_listlike)\n",
      "C:\\Users\\bbjaphet\\anaconda3\\lib\\site-packages\\pandas\\core\\tools\\datetimes.py:1063: UserWarning: Parsing '21-05-2010' in DD/MM/YYYY format. Provide format or specify infer_datetime_format=True for consistent parsing.\n",
      "  cache_array = _maybe_cache(arg, format, cache, convert_listlike)\n",
      "C:\\Users\\bbjaphet\\anaconda3\\lib\\site-packages\\pandas\\core\\tools\\datetimes.py:1063: UserWarning: Parsing '28-05-2010' in DD/MM/YYYY format. Provide format or specify infer_datetime_format=True for consistent parsing.\n",
      "  cache_array = _maybe_cache(arg, format, cache, convert_listlike)\n",
      "C:\\Users\\bbjaphet\\anaconda3\\lib\\site-packages\\pandas\\core\\tools\\datetimes.py:1063: UserWarning: Parsing '18-06-2010' in DD/MM/YYYY format. Provide format or specify infer_datetime_format=True for consistent parsing.\n",
      "  cache_array = _maybe_cache(arg, format, cache, convert_listlike)\n",
      "C:\\Users\\bbjaphet\\anaconda3\\lib\\site-packages\\pandas\\core\\tools\\datetimes.py:1063: UserWarning: Parsing '25-06-2010' in DD/MM/YYYY format. Provide format or specify infer_datetime_format=True for consistent parsing.\n",
      "  cache_array = _maybe_cache(arg, format, cache, convert_listlike)\n",
      "C:\\Users\\bbjaphet\\anaconda3\\lib\\site-packages\\pandas\\core\\tools\\datetimes.py:1063: UserWarning: Parsing '16-07-2010' in DD/MM/YYYY format. Provide format or specify infer_datetime_format=True for consistent parsing.\n",
      "  cache_array = _maybe_cache(arg, format, cache, convert_listlike)\n",
      "C:\\Users\\bbjaphet\\anaconda3\\lib\\site-packages\\pandas\\core\\tools\\datetimes.py:1063: UserWarning: Parsing '23-07-2010' in DD/MM/YYYY format. Provide format or specify infer_datetime_format=True for consistent parsing.\n",
      "  cache_array = _maybe_cache(arg, format, cache, convert_listlike)\n",
      "C:\\Users\\bbjaphet\\anaconda3\\lib\\site-packages\\pandas\\core\\tools\\datetimes.py:1063: UserWarning: Parsing '30-07-2010' in DD/MM/YYYY format. Provide format or specify infer_datetime_format=True for consistent parsing.\n",
      "  cache_array = _maybe_cache(arg, format, cache, convert_listlike)\n",
      "C:\\Users\\bbjaphet\\anaconda3\\lib\\site-packages\\pandas\\core\\tools\\datetimes.py:1063: UserWarning: Parsing '13-08-2010' in DD/MM/YYYY format. Provide format or specify infer_datetime_format=True for consistent parsing.\n",
      "  cache_array = _maybe_cache(arg, format, cache, convert_listlike)\n",
      "C:\\Users\\bbjaphet\\anaconda3\\lib\\site-packages\\pandas\\core\\tools\\datetimes.py:1063: UserWarning: Parsing '20-08-2010' in DD/MM/YYYY format. Provide format or specify infer_datetime_format=True for consistent parsing.\n",
      "  cache_array = _maybe_cache(arg, format, cache, convert_listlike)\n",
      "C:\\Users\\bbjaphet\\anaconda3\\lib\\site-packages\\pandas\\core\\tools\\datetimes.py:1063: UserWarning: Parsing '27-08-2010' in DD/MM/YYYY format. Provide format or specify infer_datetime_format=True for consistent parsing.\n",
      "  cache_array = _maybe_cache(arg, format, cache, convert_listlike)\n",
      "C:\\Users\\bbjaphet\\anaconda3\\lib\\site-packages\\pandas\\core\\tools\\datetimes.py:1063: UserWarning: Parsing '17-09-2010' in DD/MM/YYYY format. Provide format or specify infer_datetime_format=True for consistent parsing.\n",
      "  cache_array = _maybe_cache(arg, format, cache, convert_listlike)\n",
      "C:\\Users\\bbjaphet\\anaconda3\\lib\\site-packages\\pandas\\core\\tools\\datetimes.py:1063: UserWarning: Parsing '24-09-2010' in DD/MM/YYYY format. Provide format or specify infer_datetime_format=True for consistent parsing.\n",
      "  cache_array = _maybe_cache(arg, format, cache, convert_listlike)\n",
      "C:\\Users\\bbjaphet\\anaconda3\\lib\\site-packages\\pandas\\core\\tools\\datetimes.py:1063: UserWarning: Parsing '15-10-2010' in DD/MM/YYYY format. Provide format or specify infer_datetime_format=True for consistent parsing.\n",
      "  cache_array = _maybe_cache(arg, format, cache, convert_listlike)\n",
      "C:\\Users\\bbjaphet\\anaconda3\\lib\\site-packages\\pandas\\core\\tools\\datetimes.py:1063: UserWarning: Parsing '22-10-2010' in DD/MM/YYYY format. Provide format or specify infer_datetime_format=True for consistent parsing.\n",
      "  cache_array = _maybe_cache(arg, format, cache, convert_listlike)\n",
      "C:\\Users\\bbjaphet\\anaconda3\\lib\\site-packages\\pandas\\core\\tools\\datetimes.py:1063: UserWarning: Parsing '29-10-2010' in DD/MM/YYYY format. Provide format or specify infer_datetime_format=True for consistent parsing.\n",
      "  cache_array = _maybe_cache(arg, format, cache, convert_listlike)\n",
      "C:\\Users\\bbjaphet\\anaconda3\\lib\\site-packages\\pandas\\core\\tools\\datetimes.py:1063: UserWarning: Parsing '19-11-2010' in DD/MM/YYYY format. Provide format or specify infer_datetime_format=True for consistent parsing.\n",
      "  cache_array = _maybe_cache(arg, format, cache, convert_listlike)\n",
      "C:\\Users\\bbjaphet\\anaconda3\\lib\\site-packages\\pandas\\core\\tools\\datetimes.py:1063: UserWarning: Parsing '26-11-2010' in DD/MM/YYYY format. Provide format or specify infer_datetime_format=True for consistent parsing.\n",
      "  cache_array = _maybe_cache(arg, format, cache, convert_listlike)\n",
      "C:\\Users\\bbjaphet\\anaconda3\\lib\\site-packages\\pandas\\core\\tools\\datetimes.py:1063: UserWarning: Parsing '17-12-2010' in DD/MM/YYYY format. Provide format or specify infer_datetime_format=True for consistent parsing.\n",
      "  cache_array = _maybe_cache(arg, format, cache, convert_listlike)\n",
      "C:\\Users\\bbjaphet\\anaconda3\\lib\\site-packages\\pandas\\core\\tools\\datetimes.py:1063: UserWarning: Parsing '24-12-2010' in DD/MM/YYYY format. Provide format or specify infer_datetime_format=True for consistent parsing.\n",
      "  cache_array = _maybe_cache(arg, format, cache, convert_listlike)\n",
      "C:\\Users\\bbjaphet\\anaconda3\\lib\\site-packages\\pandas\\core\\tools\\datetimes.py:1063: UserWarning: Parsing '31-12-2010' in DD/MM/YYYY format. Provide format or specify infer_datetime_format=True for consistent parsing.\n",
      "  cache_array = _maybe_cache(arg, format, cache, convert_listlike)\n",
      "C:\\Users\\bbjaphet\\anaconda3\\lib\\site-packages\\pandas\\core\\tools\\datetimes.py:1063: UserWarning: Parsing '14-01-2011' in DD/MM/YYYY format. Provide format or specify infer_datetime_format=True for consistent parsing.\n",
      "  cache_array = _maybe_cache(arg, format, cache, convert_listlike)\n",
      "C:\\Users\\bbjaphet\\anaconda3\\lib\\site-packages\\pandas\\core\\tools\\datetimes.py:1063: UserWarning: Parsing '21-01-2011' in DD/MM/YYYY format. Provide format or specify infer_datetime_format=True for consistent parsing.\n",
      "  cache_array = _maybe_cache(arg, format, cache, convert_listlike)\n",
      "C:\\Users\\bbjaphet\\anaconda3\\lib\\site-packages\\pandas\\core\\tools\\datetimes.py:1063: UserWarning: Parsing '28-01-2011' in DD/MM/YYYY format. Provide format or specify infer_datetime_format=True for consistent parsing.\n",
      "  cache_array = _maybe_cache(arg, format, cache, convert_listlike)\n",
      "C:\\Users\\bbjaphet\\anaconda3\\lib\\site-packages\\pandas\\core\\tools\\datetimes.py:1063: UserWarning: Parsing '18-02-2011' in DD/MM/YYYY format. Provide format or specify infer_datetime_format=True for consistent parsing.\n",
      "  cache_array = _maybe_cache(arg, format, cache, convert_listlike)\n",
      "C:\\Users\\bbjaphet\\anaconda3\\lib\\site-packages\\pandas\\core\\tools\\datetimes.py:1063: UserWarning: Parsing '25-02-2011' in DD/MM/YYYY format. Provide format or specify infer_datetime_format=True for consistent parsing.\n",
      "  cache_array = _maybe_cache(arg, format, cache, convert_listlike)\n",
      "C:\\Users\\bbjaphet\\anaconda3\\lib\\site-packages\\pandas\\core\\tools\\datetimes.py:1063: UserWarning: Parsing '18-03-2011' in DD/MM/YYYY format. Provide format or specify infer_datetime_format=True for consistent parsing.\n",
      "  cache_array = _maybe_cache(arg, format, cache, convert_listlike)\n",
      "C:\\Users\\bbjaphet\\anaconda3\\lib\\site-packages\\pandas\\core\\tools\\datetimes.py:1063: UserWarning: Parsing '25-03-2011' in DD/MM/YYYY format. Provide format or specify infer_datetime_format=True for consistent parsing.\n",
      "  cache_array = _maybe_cache(arg, format, cache, convert_listlike)\n",
      "C:\\Users\\bbjaphet\\anaconda3\\lib\\site-packages\\pandas\\core\\tools\\datetimes.py:1063: UserWarning: Parsing '15-04-2011' in DD/MM/YYYY format. Provide format or specify infer_datetime_format=True for consistent parsing.\n",
      "  cache_array = _maybe_cache(arg, format, cache, convert_listlike)\n",
      "C:\\Users\\bbjaphet\\anaconda3\\lib\\site-packages\\pandas\\core\\tools\\datetimes.py:1063: UserWarning: Parsing '22-04-2011' in DD/MM/YYYY format. Provide format or specify infer_datetime_format=True for consistent parsing.\n",
      "  cache_array = _maybe_cache(arg, format, cache, convert_listlike)\n",
      "C:\\Users\\bbjaphet\\anaconda3\\lib\\site-packages\\pandas\\core\\tools\\datetimes.py:1063: UserWarning: Parsing '29-04-2011' in DD/MM/YYYY format. Provide format or specify infer_datetime_format=True for consistent parsing.\n",
      "  cache_array = _maybe_cache(arg, format, cache, convert_listlike)\n",
      "C:\\Users\\bbjaphet\\anaconda3\\lib\\site-packages\\pandas\\core\\tools\\datetimes.py:1063: UserWarning: Parsing '13-05-2011' in DD/MM/YYYY format. Provide format or specify infer_datetime_format=True for consistent parsing.\n",
      "  cache_array = _maybe_cache(arg, format, cache, convert_listlike)\n",
      "C:\\Users\\bbjaphet\\anaconda3\\lib\\site-packages\\pandas\\core\\tools\\datetimes.py:1063: UserWarning: Parsing '20-05-2011' in DD/MM/YYYY format. Provide format or specify infer_datetime_format=True for consistent parsing.\n",
      "  cache_array = _maybe_cache(arg, format, cache, convert_listlike)\n",
      "C:\\Users\\bbjaphet\\anaconda3\\lib\\site-packages\\pandas\\core\\tools\\datetimes.py:1063: UserWarning: Parsing '27-05-2011' in DD/MM/YYYY format. Provide format or specify infer_datetime_format=True for consistent parsing.\n",
      "  cache_array = _maybe_cache(arg, format, cache, convert_listlike)\n",
      "C:\\Users\\bbjaphet\\anaconda3\\lib\\site-packages\\pandas\\core\\tools\\datetimes.py:1063: UserWarning: Parsing '17-06-2011' in DD/MM/YYYY format. Provide format or specify infer_datetime_format=True for consistent parsing.\n",
      "  cache_array = _maybe_cache(arg, format, cache, convert_listlike)\n",
      "C:\\Users\\bbjaphet\\anaconda3\\lib\\site-packages\\pandas\\core\\tools\\datetimes.py:1063: UserWarning: Parsing '24-06-2011' in DD/MM/YYYY format. Provide format or specify infer_datetime_format=True for consistent parsing.\n",
      "  cache_array = _maybe_cache(arg, format, cache, convert_listlike)\n",
      "C:\\Users\\bbjaphet\\anaconda3\\lib\\site-packages\\pandas\\core\\tools\\datetimes.py:1063: UserWarning: Parsing '15-07-2011' in DD/MM/YYYY format. Provide format or specify infer_datetime_format=True for consistent parsing.\n",
      "  cache_array = _maybe_cache(arg, format, cache, convert_listlike)\n",
      "C:\\Users\\bbjaphet\\anaconda3\\lib\\site-packages\\pandas\\core\\tools\\datetimes.py:1063: UserWarning: Parsing '22-07-2011' in DD/MM/YYYY format. Provide format or specify infer_datetime_format=True for consistent parsing.\n",
      "  cache_array = _maybe_cache(arg, format, cache, convert_listlike)\n",
      "C:\\Users\\bbjaphet\\anaconda3\\lib\\site-packages\\pandas\\core\\tools\\datetimes.py:1063: UserWarning: Parsing '29-07-2011' in DD/MM/YYYY format. Provide format or specify infer_datetime_format=True for consistent parsing.\n",
      "  cache_array = _maybe_cache(arg, format, cache, convert_listlike)\n",
      "C:\\Users\\bbjaphet\\anaconda3\\lib\\site-packages\\pandas\\core\\tools\\datetimes.py:1063: UserWarning: Parsing '19-08-2011' in DD/MM/YYYY format. Provide format or specify infer_datetime_format=True for consistent parsing.\n",
      "  cache_array = _maybe_cache(arg, format, cache, convert_listlike)\n",
      "C:\\Users\\bbjaphet\\anaconda3\\lib\\site-packages\\pandas\\core\\tools\\datetimes.py:1063: UserWarning: Parsing '26-08-2011' in DD/MM/YYYY format. Provide format or specify infer_datetime_format=True for consistent parsing.\n",
      "  cache_array = _maybe_cache(arg, format, cache, convert_listlike)\n",
      "C:\\Users\\bbjaphet\\anaconda3\\lib\\site-packages\\pandas\\core\\tools\\datetimes.py:1063: UserWarning: Parsing '16-09-2011' in DD/MM/YYYY format. Provide format or specify infer_datetime_format=True for consistent parsing.\n",
      "  cache_array = _maybe_cache(arg, format, cache, convert_listlike)\n",
      "C:\\Users\\bbjaphet\\anaconda3\\lib\\site-packages\\pandas\\core\\tools\\datetimes.py:1063: UserWarning: Parsing '23-09-2011' in DD/MM/YYYY format. Provide format or specify infer_datetime_format=True for consistent parsing.\n",
      "  cache_array = _maybe_cache(arg, format, cache, convert_listlike)\n",
      "C:\\Users\\bbjaphet\\anaconda3\\lib\\site-packages\\pandas\\core\\tools\\datetimes.py:1063: UserWarning: Parsing '30-09-2011' in DD/MM/YYYY format. Provide format or specify infer_datetime_format=True for consistent parsing.\n",
      "  cache_array = _maybe_cache(arg, format, cache, convert_listlike)\n",
      "C:\\Users\\bbjaphet\\anaconda3\\lib\\site-packages\\pandas\\core\\tools\\datetimes.py:1063: UserWarning: Parsing '14-10-2011' in DD/MM/YYYY format. Provide format or specify infer_datetime_format=True for consistent parsing.\n",
      "  cache_array = _maybe_cache(arg, format, cache, convert_listlike)\n",
      "C:\\Users\\bbjaphet\\anaconda3\\lib\\site-packages\\pandas\\core\\tools\\datetimes.py:1063: UserWarning: Parsing '21-10-2011' in DD/MM/YYYY format. Provide format or specify infer_datetime_format=True for consistent parsing.\n",
      "  cache_array = _maybe_cache(arg, format, cache, convert_listlike)\n",
      "C:\\Users\\bbjaphet\\anaconda3\\lib\\site-packages\\pandas\\core\\tools\\datetimes.py:1063: UserWarning: Parsing '28-10-2011' in DD/MM/YYYY format. Provide format or specify infer_datetime_format=True for consistent parsing.\n",
      "  cache_array = _maybe_cache(arg, format, cache, convert_listlike)\n",
      "C:\\Users\\bbjaphet\\anaconda3\\lib\\site-packages\\pandas\\core\\tools\\datetimes.py:1063: UserWarning: Parsing '18-11-2011' in DD/MM/YYYY format. Provide format or specify infer_datetime_format=True for consistent parsing.\n",
      "  cache_array = _maybe_cache(arg, format, cache, convert_listlike)\n",
      "C:\\Users\\bbjaphet\\anaconda3\\lib\\site-packages\\pandas\\core\\tools\\datetimes.py:1063: UserWarning: Parsing '25-11-2011' in DD/MM/YYYY format. Provide format or specify infer_datetime_format=True for consistent parsing.\n",
      "  cache_array = _maybe_cache(arg, format, cache, convert_listlike)\n",
      "C:\\Users\\bbjaphet\\anaconda3\\lib\\site-packages\\pandas\\core\\tools\\datetimes.py:1063: UserWarning: Parsing '16-12-2011' in DD/MM/YYYY format. Provide format or specify infer_datetime_format=True for consistent parsing.\n",
      "  cache_array = _maybe_cache(arg, format, cache, convert_listlike)\n",
      "C:\\Users\\bbjaphet\\anaconda3\\lib\\site-packages\\pandas\\core\\tools\\datetimes.py:1063: UserWarning: Parsing '23-12-2011' in DD/MM/YYYY format. Provide format or specify infer_datetime_format=True for consistent parsing.\n",
      "  cache_array = _maybe_cache(arg, format, cache, convert_listlike)\n",
      "C:\\Users\\bbjaphet\\anaconda3\\lib\\site-packages\\pandas\\core\\tools\\datetimes.py:1063: UserWarning: Parsing '30-12-2011' in DD/MM/YYYY format. Provide format or specify infer_datetime_format=True for consistent parsing.\n",
      "  cache_array = _maybe_cache(arg, format, cache, convert_listlike)\n",
      "C:\\Users\\bbjaphet\\anaconda3\\lib\\site-packages\\pandas\\core\\tools\\datetimes.py:1063: UserWarning: Parsing '13-01-2012' in DD/MM/YYYY format. Provide format or specify infer_datetime_format=True for consistent parsing.\n",
      "  cache_array = _maybe_cache(arg, format, cache, convert_listlike)\n",
      "C:\\Users\\bbjaphet\\anaconda3\\lib\\site-packages\\pandas\\core\\tools\\datetimes.py:1063: UserWarning: Parsing '20-01-2012' in DD/MM/YYYY format. Provide format or specify infer_datetime_format=True for consistent parsing.\n",
      "  cache_array = _maybe_cache(arg, format, cache, convert_listlike)\n",
      "C:\\Users\\bbjaphet\\anaconda3\\lib\\site-packages\\pandas\\core\\tools\\datetimes.py:1063: UserWarning: Parsing '27-01-2012' in DD/MM/YYYY format. Provide format or specify infer_datetime_format=True for consistent parsing.\n",
      "  cache_array = _maybe_cache(arg, format, cache, convert_listlike)\n",
      "C:\\Users\\bbjaphet\\anaconda3\\lib\\site-packages\\pandas\\core\\tools\\datetimes.py:1063: UserWarning: Parsing '17-02-2012' in DD/MM/YYYY format. Provide format or specify infer_datetime_format=True for consistent parsing.\n",
      "  cache_array = _maybe_cache(arg, format, cache, convert_listlike)\n",
      "C:\\Users\\bbjaphet\\anaconda3\\lib\\site-packages\\pandas\\core\\tools\\datetimes.py:1063: UserWarning: Parsing '24-02-2012' in DD/MM/YYYY format. Provide format or specify infer_datetime_format=True for consistent parsing.\n",
      "  cache_array = _maybe_cache(arg, format, cache, convert_listlike)\n",
      "C:\\Users\\bbjaphet\\anaconda3\\lib\\site-packages\\pandas\\core\\tools\\datetimes.py:1063: UserWarning: Parsing '16-03-2012' in DD/MM/YYYY format. Provide format or specify infer_datetime_format=True for consistent parsing.\n",
      "  cache_array = _maybe_cache(arg, format, cache, convert_listlike)\n",
      "C:\\Users\\bbjaphet\\anaconda3\\lib\\site-packages\\pandas\\core\\tools\\datetimes.py:1063: UserWarning: Parsing '23-03-2012' in DD/MM/YYYY format. Provide format or specify infer_datetime_format=True for consistent parsing.\n",
      "  cache_array = _maybe_cache(arg, format, cache, convert_listlike)\n",
      "C:\\Users\\bbjaphet\\anaconda3\\lib\\site-packages\\pandas\\core\\tools\\datetimes.py:1063: UserWarning: Parsing '30-03-2012' in DD/MM/YYYY format. Provide format or specify infer_datetime_format=True for consistent parsing.\n",
      "  cache_array = _maybe_cache(arg, format, cache, convert_listlike)\n",
      "C:\\Users\\bbjaphet\\anaconda3\\lib\\site-packages\\pandas\\core\\tools\\datetimes.py:1063: UserWarning: Parsing '13-04-2012' in DD/MM/YYYY format. Provide format or specify infer_datetime_format=True for consistent parsing.\n",
      "  cache_array = _maybe_cache(arg, format, cache, convert_listlike)\n",
      "C:\\Users\\bbjaphet\\anaconda3\\lib\\site-packages\\pandas\\core\\tools\\datetimes.py:1063: UserWarning: Parsing '20-04-2012' in DD/MM/YYYY format. Provide format or specify infer_datetime_format=True for consistent parsing.\n",
      "  cache_array = _maybe_cache(arg, format, cache, convert_listlike)\n",
      "C:\\Users\\bbjaphet\\anaconda3\\lib\\site-packages\\pandas\\core\\tools\\datetimes.py:1063: UserWarning: Parsing '27-04-2012' in DD/MM/YYYY format. Provide format or specify infer_datetime_format=True for consistent parsing.\n",
      "  cache_array = _maybe_cache(arg, format, cache, convert_listlike)\n",
      "C:\\Users\\bbjaphet\\anaconda3\\lib\\site-packages\\pandas\\core\\tools\\datetimes.py:1063: UserWarning: Parsing '18-05-2012' in DD/MM/YYYY format. Provide format or specify infer_datetime_format=True for consistent parsing.\n",
      "  cache_array = _maybe_cache(arg, format, cache, convert_listlike)\n",
      "C:\\Users\\bbjaphet\\anaconda3\\lib\\site-packages\\pandas\\core\\tools\\datetimes.py:1063: UserWarning: Parsing '25-05-2012' in DD/MM/YYYY format. Provide format or specify infer_datetime_format=True for consistent parsing.\n",
      "  cache_array = _maybe_cache(arg, format, cache, convert_listlike)\n",
      "C:\\Users\\bbjaphet\\anaconda3\\lib\\site-packages\\pandas\\core\\tools\\datetimes.py:1063: UserWarning: Parsing '15-06-2012' in DD/MM/YYYY format. Provide format or specify infer_datetime_format=True for consistent parsing.\n",
      "  cache_array = _maybe_cache(arg, format, cache, convert_listlike)\n",
      "C:\\Users\\bbjaphet\\anaconda3\\lib\\site-packages\\pandas\\core\\tools\\datetimes.py:1063: UserWarning: Parsing '22-06-2012' in DD/MM/YYYY format. Provide format or specify infer_datetime_format=True for consistent parsing.\n",
      "  cache_array = _maybe_cache(arg, format, cache, convert_listlike)\n",
      "C:\\Users\\bbjaphet\\anaconda3\\lib\\site-packages\\pandas\\core\\tools\\datetimes.py:1063: UserWarning: Parsing '29-06-2012' in DD/MM/YYYY format. Provide format or specify infer_datetime_format=True for consistent parsing.\n",
      "  cache_array = _maybe_cache(arg, format, cache, convert_listlike)\n",
      "C:\\Users\\bbjaphet\\anaconda3\\lib\\site-packages\\pandas\\core\\tools\\datetimes.py:1063: UserWarning: Parsing '13-07-2012' in DD/MM/YYYY format. Provide format or specify infer_datetime_format=True for consistent parsing.\n",
      "  cache_array = _maybe_cache(arg, format, cache, convert_listlike)\n",
      "C:\\Users\\bbjaphet\\anaconda3\\lib\\site-packages\\pandas\\core\\tools\\datetimes.py:1063: UserWarning: Parsing '20-07-2012' in DD/MM/YYYY format. Provide format or specify infer_datetime_format=True for consistent parsing.\n",
      "  cache_array = _maybe_cache(arg, format, cache, convert_listlike)\n",
      "C:\\Users\\bbjaphet\\anaconda3\\lib\\site-packages\\pandas\\core\\tools\\datetimes.py:1063: UserWarning: Parsing '27-07-2012' in DD/MM/YYYY format. Provide format or specify infer_datetime_format=True for consistent parsing.\n",
      "  cache_array = _maybe_cache(arg, format, cache, convert_listlike)\n",
      "C:\\Users\\bbjaphet\\anaconda3\\lib\\site-packages\\pandas\\core\\tools\\datetimes.py:1063: UserWarning: Parsing '17-08-2012' in DD/MM/YYYY format. Provide format or specify infer_datetime_format=True for consistent parsing.\n",
      "  cache_array = _maybe_cache(arg, format, cache, convert_listlike)\n",
      "C:\\Users\\bbjaphet\\anaconda3\\lib\\site-packages\\pandas\\core\\tools\\datetimes.py:1063: UserWarning: Parsing '24-08-2012' in DD/MM/YYYY format. Provide format or specify infer_datetime_format=True for consistent parsing.\n",
      "  cache_array = _maybe_cache(arg, format, cache, convert_listlike)\n",
      "C:\\Users\\bbjaphet\\anaconda3\\lib\\site-packages\\pandas\\core\\tools\\datetimes.py:1063: UserWarning: Parsing '31-08-2012' in DD/MM/YYYY format. Provide format or specify infer_datetime_format=True for consistent parsing.\n",
      "  cache_array = _maybe_cache(arg, format, cache, convert_listlike)\n",
      "C:\\Users\\bbjaphet\\anaconda3\\lib\\site-packages\\pandas\\core\\tools\\datetimes.py:1063: UserWarning: Parsing '14-09-2012' in DD/MM/YYYY format. Provide format or specify infer_datetime_format=True for consistent parsing.\n",
      "  cache_array = _maybe_cache(arg, format, cache, convert_listlike)\n",
      "C:\\Users\\bbjaphet\\anaconda3\\lib\\site-packages\\pandas\\core\\tools\\datetimes.py:1063: UserWarning: Parsing '21-09-2012' in DD/MM/YYYY format. Provide format or specify infer_datetime_format=True for consistent parsing.\n",
      "  cache_array = _maybe_cache(arg, format, cache, convert_listlike)\n",
      "C:\\Users\\bbjaphet\\anaconda3\\lib\\site-packages\\pandas\\core\\tools\\datetimes.py:1063: UserWarning: Parsing '28-09-2012' in DD/MM/YYYY format. Provide format or specify infer_datetime_format=True for consistent parsing.\n",
      "  cache_array = _maybe_cache(arg, format, cache, convert_listlike)\n",
      "C:\\Users\\bbjaphet\\anaconda3\\lib\\site-packages\\pandas\\core\\tools\\datetimes.py:1063: UserWarning: Parsing '19-10-2012' in DD/MM/YYYY format. Provide format or specify infer_datetime_format=True for consistent parsing.\n",
      "  cache_array = _maybe_cache(arg, format, cache, convert_listlike)\n",
      "C:\\Users\\bbjaphet\\anaconda3\\lib\\site-packages\\pandas\\core\\tools\\datetimes.py:1063: UserWarning: Parsing '26-10-2012' in DD/MM/YYYY format. Provide format or specify infer_datetime_format=True for consistent parsing.\n",
      "  cache_array = _maybe_cache(arg, format, cache, convert_listlike)\n"
     ]
    }
   ],
   "source": [
    "df = pd.read_csv(\"walmart-sales-dataset-of-45stores.csv\",parse_dates=['Date'])"
   ]
  },
  {
   "cell_type": "markdown",
   "id": "fe09b544",
   "metadata": {},
   "source": [
    "**Data Exploration**"
   ]
  },
  {
   "cell_type": "code",
   "execution_count": 36,
   "id": "f57a64de",
   "metadata": {},
   "outputs": [
    {
     "data": {
      "text/html": [
       "<div>\n",
       "<style scoped>\n",
       "    .dataframe tbody tr th:only-of-type {\n",
       "        vertical-align: middle;\n",
       "    }\n",
       "\n",
       "    .dataframe tbody tr th {\n",
       "        vertical-align: top;\n",
       "    }\n",
       "\n",
       "    .dataframe thead th {\n",
       "        text-align: right;\n",
       "    }\n",
       "</style>\n",
       "<table border=\"1\" class=\"dataframe\">\n",
       "  <thead>\n",
       "    <tr style=\"text-align: right;\">\n",
       "      <th></th>\n",
       "      <th>Store</th>\n",
       "      <th>Date</th>\n",
       "      <th>Weekly_Sales</th>\n",
       "      <th>Holiday_Flag</th>\n",
       "      <th>Temperature</th>\n",
       "      <th>Fuel_Price</th>\n",
       "      <th>CPI</th>\n",
       "      <th>Unemployment</th>\n",
       "    </tr>\n",
       "  </thead>\n",
       "  <tbody>\n",
       "    <tr>\n",
       "      <th>0</th>\n",
       "      <td>1</td>\n",
       "      <td>2010-05-02</td>\n",
       "      <td>1643690.90</td>\n",
       "      <td>0</td>\n",
       "      <td>42.31</td>\n",
       "      <td>2.572</td>\n",
       "      <td>211.096358</td>\n",
       "      <td>8.106</td>\n",
       "    </tr>\n",
       "    <tr>\n",
       "      <th>1</th>\n",
       "      <td>1</td>\n",
       "      <td>2010-12-02</td>\n",
       "      <td>1641957.44</td>\n",
       "      <td>1</td>\n",
       "      <td>38.51</td>\n",
       "      <td>2.548</td>\n",
       "      <td>211.242170</td>\n",
       "      <td>8.106</td>\n",
       "    </tr>\n",
       "    <tr>\n",
       "      <th>2</th>\n",
       "      <td>1</td>\n",
       "      <td>2010-02-19</td>\n",
       "      <td>1611968.17</td>\n",
       "      <td>0</td>\n",
       "      <td>39.93</td>\n",
       "      <td>2.514</td>\n",
       "      <td>211.289143</td>\n",
       "      <td>8.106</td>\n",
       "    </tr>\n",
       "    <tr>\n",
       "      <th>3</th>\n",
       "      <td>1</td>\n",
       "      <td>2010-02-26</td>\n",
       "      <td>1409727.59</td>\n",
       "      <td>0</td>\n",
       "      <td>46.63</td>\n",
       "      <td>2.561</td>\n",
       "      <td>211.319643</td>\n",
       "      <td>8.106</td>\n",
       "    </tr>\n",
       "    <tr>\n",
       "      <th>4</th>\n",
       "      <td>1</td>\n",
       "      <td>2010-05-03</td>\n",
       "      <td>1554806.68</td>\n",
       "      <td>0</td>\n",
       "      <td>46.50</td>\n",
       "      <td>2.625</td>\n",
       "      <td>211.350143</td>\n",
       "      <td>8.106</td>\n",
       "    </tr>\n",
       "  </tbody>\n",
       "</table>\n",
       "</div>"
      ],
      "text/plain": [
       "   Store       Date  Weekly_Sales  Holiday_Flag  Temperature  Fuel_Price  \\\n",
       "0      1 2010-05-02    1643690.90             0        42.31       2.572   \n",
       "1      1 2010-12-02    1641957.44             1        38.51       2.548   \n",
       "2      1 2010-02-19    1611968.17             0        39.93       2.514   \n",
       "3      1 2010-02-26    1409727.59             0        46.63       2.561   \n",
       "4      1 2010-05-03    1554806.68             0        46.50       2.625   \n",
       "\n",
       "          CPI  Unemployment  \n",
       "0  211.096358         8.106  \n",
       "1  211.242170         8.106  \n",
       "2  211.289143         8.106  \n",
       "3  211.319643         8.106  \n",
       "4  211.350143         8.106  "
      ]
     },
     "execution_count": 36,
     "metadata": {},
     "output_type": "execute_result"
    }
   ],
   "source": [
    "df.head()"
   ]
  },
  {
   "cell_type": "code",
   "execution_count": 37,
   "id": "0633a508",
   "metadata": {},
   "outputs": [
    {
     "data": {
      "text/html": [
       "<div>\n",
       "<style scoped>\n",
       "    .dataframe tbody tr th:only-of-type {\n",
       "        vertical-align: middle;\n",
       "    }\n",
       "\n",
       "    .dataframe tbody tr th {\n",
       "        vertical-align: top;\n",
       "    }\n",
       "\n",
       "    .dataframe thead th {\n",
       "        text-align: right;\n",
       "    }\n",
       "</style>\n",
       "<table border=\"1\" class=\"dataframe\">\n",
       "  <thead>\n",
       "    <tr style=\"text-align: right;\">\n",
       "      <th></th>\n",
       "      <th>Store</th>\n",
       "      <th>Date</th>\n",
       "      <th>Weekly_Sales</th>\n",
       "      <th>Holiday_Flag</th>\n",
       "      <th>Temperature</th>\n",
       "      <th>Fuel_Price</th>\n",
       "      <th>CPI</th>\n",
       "      <th>Unemployment</th>\n",
       "    </tr>\n",
       "  </thead>\n",
       "  <tbody>\n",
       "    <tr>\n",
       "      <th>6430</th>\n",
       "      <td>45</td>\n",
       "      <td>2012-09-28</td>\n",
       "      <td>713173.95</td>\n",
       "      <td>0</td>\n",
       "      <td>64.88</td>\n",
       "      <td>3.997</td>\n",
       "      <td>192.013558</td>\n",
       "      <td>8.684</td>\n",
       "    </tr>\n",
       "    <tr>\n",
       "      <th>6431</th>\n",
       "      <td>45</td>\n",
       "      <td>2012-05-10</td>\n",
       "      <td>733455.07</td>\n",
       "      <td>0</td>\n",
       "      <td>64.89</td>\n",
       "      <td>3.985</td>\n",
       "      <td>192.170412</td>\n",
       "      <td>8.667</td>\n",
       "    </tr>\n",
       "    <tr>\n",
       "      <th>6432</th>\n",
       "      <td>45</td>\n",
       "      <td>2012-12-10</td>\n",
       "      <td>734464.36</td>\n",
       "      <td>0</td>\n",
       "      <td>54.47</td>\n",
       "      <td>4.000</td>\n",
       "      <td>192.327265</td>\n",
       "      <td>8.667</td>\n",
       "    </tr>\n",
       "    <tr>\n",
       "      <th>6433</th>\n",
       "      <td>45</td>\n",
       "      <td>2012-10-19</td>\n",
       "      <td>718125.53</td>\n",
       "      <td>0</td>\n",
       "      <td>56.47</td>\n",
       "      <td>3.969</td>\n",
       "      <td>192.330854</td>\n",
       "      <td>8.667</td>\n",
       "    </tr>\n",
       "    <tr>\n",
       "      <th>6434</th>\n",
       "      <td>45</td>\n",
       "      <td>2012-10-26</td>\n",
       "      <td>760281.43</td>\n",
       "      <td>0</td>\n",
       "      <td>58.85</td>\n",
       "      <td>3.882</td>\n",
       "      <td>192.308899</td>\n",
       "      <td>8.667</td>\n",
       "    </tr>\n",
       "  </tbody>\n",
       "</table>\n",
       "</div>"
      ],
      "text/plain": [
       "      Store       Date  Weekly_Sales  Holiday_Flag  Temperature  Fuel_Price  \\\n",
       "6430     45 2012-09-28     713173.95             0        64.88       3.997   \n",
       "6431     45 2012-05-10     733455.07             0        64.89       3.985   \n",
       "6432     45 2012-12-10     734464.36             0        54.47       4.000   \n",
       "6433     45 2012-10-19     718125.53             0        56.47       3.969   \n",
       "6434     45 2012-10-26     760281.43             0        58.85       3.882   \n",
       "\n",
       "             CPI  Unemployment  \n",
       "6430  192.013558         8.684  \n",
       "6431  192.170412         8.667  \n",
       "6432  192.327265         8.667  \n",
       "6433  192.330854         8.667  \n",
       "6434  192.308899         8.667  "
      ]
     },
     "execution_count": 37,
     "metadata": {},
     "output_type": "execute_result"
    }
   ],
   "source": [
    "df.tail()"
   ]
  },
  {
   "cell_type": "code",
   "execution_count": 38,
   "id": "81bef2fe",
   "metadata": {},
   "outputs": [
    {
     "data": {
      "text/plain": [
       "(6435, 8)"
      ]
     },
     "execution_count": 38,
     "metadata": {},
     "output_type": "execute_result"
    }
   ],
   "source": [
    "df.shape"
   ]
  },
  {
   "cell_type": "code",
   "execution_count": 39,
   "id": "e9c18938",
   "metadata": {},
   "outputs": [
    {
     "name": "stdout",
     "output_type": "stream",
     "text": [
      "<class 'pandas.core.frame.DataFrame'>\n",
      "RangeIndex: 6435 entries, 0 to 6434\n",
      "Data columns (total 8 columns):\n",
      " #   Column        Non-Null Count  Dtype         \n",
      "---  ------        --------------  -----         \n",
      " 0   Store         6435 non-null   int64         \n",
      " 1   Date          6435 non-null   datetime64[ns]\n",
      " 2   Weekly_Sales  6435 non-null   float64       \n",
      " 3   Holiday_Flag  6435 non-null   int64         \n",
      " 4   Temperature   6435 non-null   float64       \n",
      " 5   Fuel_Price    6435 non-null   float64       \n",
      " 6   CPI           6435 non-null   float64       \n",
      " 7   Unemployment  6435 non-null   float64       \n",
      "dtypes: datetime64[ns](1), float64(5), int64(2)\n",
      "memory usage: 402.3 KB\n"
     ]
    }
   ],
   "source": [
    "df.info()"
   ]
  },
  {
   "cell_type": "code",
   "execution_count": 40,
   "id": "ca7e7983",
   "metadata": {},
   "outputs": [
    {
     "data": {
      "text/plain": [
       "1     143\n",
       "24    143\n",
       "26    143\n",
       "27    143\n",
       "28    143\n",
       "29    143\n",
       "30    143\n",
       "31    143\n",
       "32    143\n",
       "33    143\n",
       "34    143\n",
       "35    143\n",
       "36    143\n",
       "37    143\n",
       "38    143\n",
       "39    143\n",
       "40    143\n",
       "41    143\n",
       "42    143\n",
       "43    143\n",
       "44    143\n",
       "25    143\n",
       "23    143\n",
       "2     143\n",
       "22    143\n",
       "3     143\n",
       "4     143\n",
       "5     143\n",
       "6     143\n",
       "7     143\n",
       "8     143\n",
       "9     143\n",
       "10    143\n",
       "11    143\n",
       "12    143\n",
       "13    143\n",
       "14    143\n",
       "15    143\n",
       "16    143\n",
       "17    143\n",
       "18    143\n",
       "19    143\n",
       "20    143\n",
       "21    143\n",
       "45    143\n",
       "Name: Store, dtype: int64"
      ]
     },
     "execution_count": 40,
     "metadata": {},
     "output_type": "execute_result"
    }
   ],
   "source": [
    "df['Store'].value_counts()"
   ]
  },
  {
   "cell_type": "code",
   "execution_count": 41,
   "id": "8397b4da",
   "metadata": {},
   "outputs": [
    {
     "data": {
      "text/plain": [
       "2010-05-02    45\n",
       "2011-12-23    45\n",
       "2011-11-11    45\n",
       "2011-11-18    45\n",
       "2011-11-25    45\n",
       "              ..\n",
       "2011-07-01    45\n",
       "2011-01-14    45\n",
       "2011-01-21    45\n",
       "2011-01-28    45\n",
       "2012-10-26    45\n",
       "Name: Date, Length: 143, dtype: int64"
      ]
     },
     "execution_count": 41,
     "metadata": {},
     "output_type": "execute_result"
    }
   ],
   "source": [
    "df['Date'].value_counts()"
   ]
  },
  {
   "cell_type": "code",
   "execution_count": 42,
   "id": "6352543b",
   "metadata": {},
   "outputs": [
    {
     "data": {
      "text/plain": [
       "1643690.90    1\n",
       "446751.45     1\n",
       "1332261.01    1\n",
       "1366193.35    1\n",
       "1384870.51    1\n",
       "             ..\n",
       "551799.63     1\n",
       "573498.64     1\n",
       "553901.97     1\n",
       "533161.64     1\n",
       "760281.43     1\n",
       "Name: Weekly_Sales, Length: 6435, dtype: int64"
      ]
     },
     "execution_count": 42,
     "metadata": {},
     "output_type": "execute_result"
    }
   ],
   "source": [
    "df['Weekly_Sales'].value_counts()"
   ]
  },
  {
   "cell_type": "code",
   "execution_count": 43,
   "id": "3e9a6e91",
   "metadata": {
    "scrolled": true
   },
   "outputs": [
    {
     "data": {
      "text/plain": [
       "0    5985\n",
       "1     450\n",
       "Name: Holiday_Flag, dtype: int64"
      ]
     },
     "execution_count": 43,
     "metadata": {},
     "output_type": "execute_result"
    }
   ],
   "source": [
    "df['Holiday_Flag'].value_counts()"
   ]
  },
  {
   "cell_type": "code",
   "execution_count": 44,
   "id": "d83cd668",
   "metadata": {
    "scrolled": true
   },
   "outputs": [
    {
     "data": {
      "text/plain": [
       "50.43    11\n",
       "67.87    10\n",
       "76.67     9\n",
       "76.03     9\n",
       "70.28     9\n",
       "         ..\n",
       "34.93     1\n",
       "38.53     1\n",
       "41.10     1\n",
       "45.54     1\n",
       "74.09     1\n",
       "Name: Temperature, Length: 3528, dtype: int64"
      ]
     },
     "execution_count": 44,
     "metadata": {},
     "output_type": "execute_result"
    }
   ],
   "source": [
    "df['Temperature'].value_counts()"
   ]
  },
  {
   "cell_type": "code",
   "execution_count": 45,
   "id": "4b8d8a77",
   "metadata": {},
   "outputs": [
    {
     "data": {
      "text/plain": [
       "8.099    78\n",
       "8.163    56\n",
       "7.852    56\n",
       "8.200    52\n",
       "6.565    52\n",
       "         ..\n",
       "7.138     4\n",
       "8.665     4\n",
       "8.000     4\n",
       "9.151     4\n",
       "5.217     4\n",
       "Name: Unemployment, Length: 349, dtype: int64"
      ]
     },
     "execution_count": 45,
     "metadata": {},
     "output_type": "execute_result"
    }
   ],
   "source": [
    "df['Unemployment'].value_counts()"
   ]
  },
  {
   "cell_type": "code",
   "execution_count": 46,
   "id": "bd1d5a7c",
   "metadata": {},
   "outputs": [
    {
     "data": {
      "text/plain": [
       "Store           0\n",
       "Date            0\n",
       "Weekly_Sales    0\n",
       "Holiday_Flag    0\n",
       "Temperature     0\n",
       "Fuel_Price      0\n",
       "CPI             0\n",
       "Unemployment    0\n",
       "dtype: int64"
      ]
     },
     "execution_count": 46,
     "metadata": {},
     "output_type": "execute_result"
    }
   ],
   "source": [
    "df.isnull().sum()"
   ]
  },
  {
   "cell_type": "code",
   "execution_count": 48,
   "id": "34933d4d",
   "metadata": {},
   "outputs": [],
   "source": [
    "df['Store'] = df['Store'].astype(str)"
   ]
  },
  {
   "cell_type": "code",
   "execution_count": 60,
   "id": "dcde1984",
   "metadata": {},
   "outputs": [
    {
     "data": {
      "text/html": [
       "<div>\n",
       "<style scoped>\n",
       "    .dataframe tbody tr th:only-of-type {\n",
       "        vertical-align: middle;\n",
       "    }\n",
       "\n",
       "    .dataframe tbody tr th {\n",
       "        vertical-align: top;\n",
       "    }\n",
       "\n",
       "    .dataframe thead th {\n",
       "        text-align: right;\n",
       "    }\n",
       "</style>\n",
       "<table border=\"1\" class=\"dataframe\">\n",
       "  <thead>\n",
       "    <tr style=\"text-align: right;\">\n",
       "      <th></th>\n",
       "      <th>Weekly_Sales</th>\n",
       "      <th>Holiday_Flag</th>\n",
       "      <th>Temperature</th>\n",
       "      <th>Fuel_Price</th>\n",
       "      <th>CPI</th>\n",
       "      <th>Unemployment</th>\n",
       "    </tr>\n",
       "  </thead>\n",
       "  <tbody>\n",
       "    <tr>\n",
       "      <th>count</th>\n",
       "      <td>6.435000e+03</td>\n",
       "      <td>6435.000000</td>\n",
       "      <td>6435.000000</td>\n",
       "      <td>6435.000000</td>\n",
       "      <td>6435.000000</td>\n",
       "      <td>6435.000000</td>\n",
       "    </tr>\n",
       "    <tr>\n",
       "      <th>mean</th>\n",
       "      <td>1.046965e+06</td>\n",
       "      <td>0.069930</td>\n",
       "      <td>60.663782</td>\n",
       "      <td>3.358607</td>\n",
       "      <td>171.578394</td>\n",
       "      <td>7.999151</td>\n",
       "    </tr>\n",
       "    <tr>\n",
       "      <th>std</th>\n",
       "      <td>5.643666e+05</td>\n",
       "      <td>0.255049</td>\n",
       "      <td>18.444933</td>\n",
       "      <td>0.459020</td>\n",
       "      <td>39.356712</td>\n",
       "      <td>1.875885</td>\n",
       "    </tr>\n",
       "    <tr>\n",
       "      <th>min</th>\n",
       "      <td>2.099862e+05</td>\n",
       "      <td>0.000000</td>\n",
       "      <td>-2.060000</td>\n",
       "      <td>2.472000</td>\n",
       "      <td>126.064000</td>\n",
       "      <td>3.879000</td>\n",
       "    </tr>\n",
       "    <tr>\n",
       "      <th>25%</th>\n",
       "      <td>5.533501e+05</td>\n",
       "      <td>0.000000</td>\n",
       "      <td>47.460000</td>\n",
       "      <td>2.933000</td>\n",
       "      <td>131.735000</td>\n",
       "      <td>6.891000</td>\n",
       "    </tr>\n",
       "    <tr>\n",
       "      <th>50%</th>\n",
       "      <td>9.607460e+05</td>\n",
       "      <td>0.000000</td>\n",
       "      <td>62.670000</td>\n",
       "      <td>3.445000</td>\n",
       "      <td>182.616521</td>\n",
       "      <td>7.874000</td>\n",
       "    </tr>\n",
       "    <tr>\n",
       "      <th>75%</th>\n",
       "      <td>1.420159e+06</td>\n",
       "      <td>0.000000</td>\n",
       "      <td>74.940000</td>\n",
       "      <td>3.735000</td>\n",
       "      <td>212.743293</td>\n",
       "      <td>8.622000</td>\n",
       "    </tr>\n",
       "    <tr>\n",
       "      <th>max</th>\n",
       "      <td>3.818686e+06</td>\n",
       "      <td>1.000000</td>\n",
       "      <td>100.140000</td>\n",
       "      <td>4.468000</td>\n",
       "      <td>227.232807</td>\n",
       "      <td>14.313000</td>\n",
       "    </tr>\n",
       "  </tbody>\n",
       "</table>\n",
       "</div>"
      ],
      "text/plain": [
       "       Weekly_Sales  Holiday_Flag  Temperature   Fuel_Price          CPI  \\\n",
       "count  6.435000e+03   6435.000000  6435.000000  6435.000000  6435.000000   \n",
       "mean   1.046965e+06      0.069930    60.663782     3.358607   171.578394   \n",
       "std    5.643666e+05      0.255049    18.444933     0.459020    39.356712   \n",
       "min    2.099862e+05      0.000000    -2.060000     2.472000   126.064000   \n",
       "25%    5.533501e+05      0.000000    47.460000     2.933000   131.735000   \n",
       "50%    9.607460e+05      0.000000    62.670000     3.445000   182.616521   \n",
       "75%    1.420159e+06      0.000000    74.940000     3.735000   212.743293   \n",
       "max    3.818686e+06      1.000000   100.140000     4.468000   227.232807   \n",
       "\n",
       "       Unemployment  \n",
       "count   6435.000000  \n",
       "mean       7.999151  \n",
       "std        1.875885  \n",
       "min        3.879000  \n",
       "25%        6.891000  \n",
       "50%        7.874000  \n",
       "75%        8.622000  \n",
       "max       14.313000  "
      ]
     },
     "execution_count": 60,
     "metadata": {},
     "output_type": "execute_result"
    }
   ],
   "source": [
    "df.describe()"
   ]
  },
  {
   "cell_type": "code",
   "execution_count": 61,
   "id": "f5b83c67",
   "metadata": {},
   "outputs": [
    {
     "data": {
      "text/html": [
       "<div>\n",
       "<style scoped>\n",
       "    .dataframe tbody tr th:only-of-type {\n",
       "        vertical-align: middle;\n",
       "    }\n",
       "\n",
       "    .dataframe tbody tr th {\n",
       "        vertical-align: top;\n",
       "    }\n",
       "\n",
       "    .dataframe thead th {\n",
       "        text-align: right;\n",
       "    }\n",
       "</style>\n",
       "<table border=\"1\" class=\"dataframe\">\n",
       "  <thead>\n",
       "    <tr style=\"text-align: right;\">\n",
       "      <th></th>\n",
       "      <th>Weekly_Sales</th>\n",
       "      <th>Holiday_Flag</th>\n",
       "      <th>Temperature</th>\n",
       "      <th>Fuel_Price</th>\n",
       "      <th>CPI</th>\n",
       "      <th>Unemployment</th>\n",
       "    </tr>\n",
       "  </thead>\n",
       "  <tbody>\n",
       "    <tr>\n",
       "      <th>count</th>\n",
       "      <td>6435.000</td>\n",
       "      <td>6435.000</td>\n",
       "      <td>6435.000</td>\n",
       "      <td>6435.000</td>\n",
       "      <td>6435.000</td>\n",
       "      <td>6435.000</td>\n",
       "    </tr>\n",
       "    <tr>\n",
       "      <th>mean</th>\n",
       "      <td>1046964.878</td>\n",
       "      <td>0.070</td>\n",
       "      <td>60.664</td>\n",
       "      <td>3.359</td>\n",
       "      <td>171.578</td>\n",
       "      <td>7.999</td>\n",
       "    </tr>\n",
       "    <tr>\n",
       "      <th>std</th>\n",
       "      <td>564366.622</td>\n",
       "      <td>0.255</td>\n",
       "      <td>18.445</td>\n",
       "      <td>0.459</td>\n",
       "      <td>39.357</td>\n",
       "      <td>1.876</td>\n",
       "    </tr>\n",
       "    <tr>\n",
       "      <th>min</th>\n",
       "      <td>209986.250</td>\n",
       "      <td>0.000</td>\n",
       "      <td>-2.060</td>\n",
       "      <td>2.472</td>\n",
       "      <td>126.064</td>\n",
       "      <td>3.879</td>\n",
       "    </tr>\n",
       "    <tr>\n",
       "      <th>25%</th>\n",
       "      <td>553350.105</td>\n",
       "      <td>0.000</td>\n",
       "      <td>47.460</td>\n",
       "      <td>2.933</td>\n",
       "      <td>131.735</td>\n",
       "      <td>6.891</td>\n",
       "    </tr>\n",
       "    <tr>\n",
       "      <th>50%</th>\n",
       "      <td>960746.040</td>\n",
       "      <td>0.000</td>\n",
       "      <td>62.670</td>\n",
       "      <td>3.445</td>\n",
       "      <td>182.617</td>\n",
       "      <td>7.874</td>\n",
       "    </tr>\n",
       "    <tr>\n",
       "      <th>75%</th>\n",
       "      <td>1420158.660</td>\n",
       "      <td>0.000</td>\n",
       "      <td>74.940</td>\n",
       "      <td>3.735</td>\n",
       "      <td>212.743</td>\n",
       "      <td>8.622</td>\n",
       "    </tr>\n",
       "    <tr>\n",
       "      <th>max</th>\n",
       "      <td>3818686.450</td>\n",
       "      <td>1.000</td>\n",
       "      <td>100.140</td>\n",
       "      <td>4.468</td>\n",
       "      <td>227.233</td>\n",
       "      <td>14.313</td>\n",
       "    </tr>\n",
       "  </tbody>\n",
       "</table>\n",
       "</div>"
      ],
      "text/plain": [
       "       Weekly_Sales  Holiday_Flag  Temperature  Fuel_Price       CPI  \\\n",
       "count      6435.000      6435.000     6435.000    6435.000  6435.000   \n",
       "mean    1046964.878         0.070       60.664       3.359   171.578   \n",
       "std      564366.622         0.255       18.445       0.459    39.357   \n",
       "min      209986.250         0.000       -2.060       2.472   126.064   \n",
       "25%      553350.105         0.000       47.460       2.933   131.735   \n",
       "50%      960746.040         0.000       62.670       3.445   182.617   \n",
       "75%     1420158.660         0.000       74.940       3.735   212.743   \n",
       "max     3818686.450         1.000      100.140       4.468   227.233   \n",
       "\n",
       "       Unemployment  \n",
       "count      6435.000  \n",
       "mean          7.999  \n",
       "std           1.876  \n",
       "min           3.879  \n",
       "25%           6.891  \n",
       "50%           7.874  \n",
       "75%           8.622  \n",
       "max          14.313  "
      ]
     },
     "execution_count": 61,
     "metadata": {},
     "output_type": "execute_result"
    }
   ],
   "source": [
    "round(df.describe(),3)"
   ]
  },
  {
   "cell_type": "markdown",
   "id": "7b90b0ce",
   "metadata": {},
   "source": [
    "**Data Analysis**"
   ]
  },
  {
   "cell_type": "markdown",
   "id": "a6bc690f",
   "metadata": {},
   "source": [
    "**What is the overview of of the performance of the stores in General using the total of their weekly sales ? **"
   ]
  },
  {
   "cell_type": "code",
   "execution_count": 62,
   "id": "31883c8b",
   "metadata": {},
   "outputs": [],
   "source": [
    "# df1 = df.groupby(\"Store\")[\"Weekly_Sales\"].sum().sort_values('Weekly_Sales',ascending=False)\n",
    "df1 = df.groupby('Store')[['Weekly_Sales']].max().round(4).sort_values('Weekly_Sales',ascending=False)\n",
    "# df1 = df.groupby('Store')[['Weekly_Sales']].max().round(4)"
   ]
  },
  {
   "cell_type": "code",
   "execution_count": 63,
   "id": "56c561bf",
   "metadata": {},
   "outputs": [
    {
     "data": {
      "text/html": [
       "<div>\n",
       "<style scoped>\n",
       "    .dataframe tbody tr th:only-of-type {\n",
       "        vertical-align: middle;\n",
       "    }\n",
       "\n",
       "    .dataframe tbody tr th {\n",
       "        vertical-align: top;\n",
       "    }\n",
       "\n",
       "    .dataframe thead th {\n",
       "        text-align: right;\n",
       "    }\n",
       "</style>\n",
       "<table border=\"1\" class=\"dataframe\">\n",
       "  <thead>\n",
       "    <tr style=\"text-align: right;\">\n",
       "      <th></th>\n",
       "      <th>Weekly_Sales</th>\n",
       "    </tr>\n",
       "    <tr>\n",
       "      <th>Store</th>\n",
       "      <th></th>\n",
       "    </tr>\n",
       "  </thead>\n",
       "  <tbody>\n",
       "    <tr>\n",
       "      <th>14</th>\n",
       "      <td>3818686.45</td>\n",
       "    </tr>\n",
       "    <tr>\n",
       "      <th>20</th>\n",
       "      <td>3766687.43</td>\n",
       "    </tr>\n",
       "    <tr>\n",
       "      <th>10</th>\n",
       "      <td>3749057.69</td>\n",
       "    </tr>\n",
       "    <tr>\n",
       "      <th>4</th>\n",
       "      <td>3676388.98</td>\n",
       "    </tr>\n",
       "    <tr>\n",
       "      <th>13</th>\n",
       "      <td>3595903.20</td>\n",
       "    </tr>\n",
       "    <tr>\n",
       "      <th>2</th>\n",
       "      <td>3436007.68</td>\n",
       "    </tr>\n",
       "    <tr>\n",
       "      <th>27</th>\n",
       "      <td>3078162.08</td>\n",
       "    </tr>\n",
       "    <tr>\n",
       "      <th>23</th>\n",
       "      <td>2734277.10</td>\n",
       "    </tr>\n",
       "    <tr>\n",
       "      <th>6</th>\n",
       "      <td>2727575.18</td>\n",
       "    </tr>\n",
       "    <tr>\n",
       "      <th>19</th>\n",
       "      <td>2678206.42</td>\n",
       "    </tr>\n",
       "    <tr>\n",
       "      <th>39</th>\n",
       "      <td>2554482.84</td>\n",
       "    </tr>\n",
       "    <tr>\n",
       "      <th>1</th>\n",
       "      <td>2387950.20</td>\n",
       "    </tr>\n",
       "    <tr>\n",
       "      <th>24</th>\n",
       "      <td>2386015.75</td>\n",
       "    </tr>\n",
       "    <tr>\n",
       "      <th>11</th>\n",
       "      <td>2306265.36</td>\n",
       "    </tr>\n",
       "    <tr>\n",
       "      <th>41</th>\n",
       "      <td>2263722.68</td>\n",
       "    </tr>\n",
       "    <tr>\n",
       "      <th>31</th>\n",
       "      <td>2068942.97</td>\n",
       "    </tr>\n",
       "    <tr>\n",
       "      <th>18</th>\n",
       "      <td>2027507.15</td>\n",
       "    </tr>\n",
       "    <tr>\n",
       "      <th>28</th>\n",
       "      <td>2026026.39</td>\n",
       "    </tr>\n",
       "    <tr>\n",
       "      <th>22</th>\n",
       "      <td>1962445.04</td>\n",
       "    </tr>\n",
       "    <tr>\n",
       "      <th>32</th>\n",
       "      <td>1959526.96</td>\n",
       "    </tr>\n",
       "    <tr>\n",
       "      <th>35</th>\n",
       "      <td>1781866.98</td>\n",
       "    </tr>\n",
       "    <tr>\n",
       "      <th>12</th>\n",
       "      <td>1768249.89</td>\n",
       "    </tr>\n",
       "    <tr>\n",
       "      <th>45</th>\n",
       "      <td>1682862.03</td>\n",
       "    </tr>\n",
       "    <tr>\n",
       "      <th>40</th>\n",
       "      <td>1648829.18</td>\n",
       "    </tr>\n",
       "    <tr>\n",
       "      <th>34</th>\n",
       "      <td>1620748.25</td>\n",
       "    </tr>\n",
       "    <tr>\n",
       "      <th>21</th>\n",
       "      <td>1587257.78</td>\n",
       "    </tr>\n",
       "    <tr>\n",
       "      <th>26</th>\n",
       "      <td>1573982.47</td>\n",
       "    </tr>\n",
       "    <tr>\n",
       "      <th>8</th>\n",
       "      <td>1511641.09</td>\n",
       "    </tr>\n",
       "    <tr>\n",
       "      <th>15</th>\n",
       "      <td>1368318.17</td>\n",
       "    </tr>\n",
       "    <tr>\n",
       "      <th>17</th>\n",
       "      <td>1309226.79</td>\n",
       "    </tr>\n",
       "    <tr>\n",
       "      <th>25</th>\n",
       "      <td>1295391.19</td>\n",
       "    </tr>\n",
       "    <tr>\n",
       "      <th>29</th>\n",
       "      <td>1130926.79</td>\n",
       "    </tr>\n",
       "    <tr>\n",
       "      <th>7</th>\n",
       "      <td>1059715.27</td>\n",
       "    </tr>\n",
       "    <tr>\n",
       "      <th>16</th>\n",
       "      <td>1004730.69</td>\n",
       "    </tr>\n",
       "    <tr>\n",
       "      <th>9</th>\n",
       "      <td>905324.68</td>\n",
       "    </tr>\n",
       "    <tr>\n",
       "      <th>43</th>\n",
       "      <td>725043.04</td>\n",
       "    </tr>\n",
       "    <tr>\n",
       "      <th>42</th>\n",
       "      <td>674919.45</td>\n",
       "    </tr>\n",
       "    <tr>\n",
       "      <th>3</th>\n",
       "      <td>605990.41</td>\n",
       "    </tr>\n",
       "    <tr>\n",
       "      <th>37</th>\n",
       "      <td>605791.46</td>\n",
       "    </tr>\n",
       "    <tr>\n",
       "      <th>30</th>\n",
       "      <td>519354.88</td>\n",
       "    </tr>\n",
       "    <tr>\n",
       "      <th>5</th>\n",
       "      <td>507900.07</td>\n",
       "    </tr>\n",
       "    <tr>\n",
       "      <th>38</th>\n",
       "      <td>499267.66</td>\n",
       "    </tr>\n",
       "    <tr>\n",
       "      <th>36</th>\n",
       "      <td>489372.02</td>\n",
       "    </tr>\n",
       "    <tr>\n",
       "      <th>44</th>\n",
       "      <td>376233.89</td>\n",
       "    </tr>\n",
       "    <tr>\n",
       "      <th>33</th>\n",
       "      <td>331173.51</td>\n",
       "    </tr>\n",
       "  </tbody>\n",
       "</table>\n",
       "</div>"
      ],
      "text/plain": [
       "       Weekly_Sales\n",
       "Store              \n",
       "14       3818686.45\n",
       "20       3766687.43\n",
       "10       3749057.69\n",
       "4        3676388.98\n",
       "13       3595903.20\n",
       "2        3436007.68\n",
       "27       3078162.08\n",
       "23       2734277.10\n",
       "6        2727575.18\n",
       "19       2678206.42\n",
       "39       2554482.84\n",
       "1        2387950.20\n",
       "24       2386015.75\n",
       "11       2306265.36\n",
       "41       2263722.68\n",
       "31       2068942.97\n",
       "18       2027507.15\n",
       "28       2026026.39\n",
       "22       1962445.04\n",
       "32       1959526.96\n",
       "35       1781866.98\n",
       "12       1768249.89\n",
       "45       1682862.03\n",
       "40       1648829.18\n",
       "34       1620748.25\n",
       "21       1587257.78\n",
       "26       1573982.47\n",
       "8        1511641.09\n",
       "15       1368318.17\n",
       "17       1309226.79\n",
       "25       1295391.19\n",
       "29       1130926.79\n",
       "7        1059715.27\n",
       "16       1004730.69\n",
       "9         905324.68\n",
       "43        725043.04\n",
       "42        674919.45\n",
       "3         605990.41\n",
       "37        605791.46\n",
       "30        519354.88\n",
       "5         507900.07\n",
       "38        499267.66\n",
       "36        489372.02\n",
       "44        376233.89\n",
       "33        331173.51"
      ]
     },
     "execution_count": 63,
     "metadata": {},
     "output_type": "execute_result"
    }
   ],
   "source": [
    "# Total weekly sales for all 45 stores for performance overview.\n",
    "df1\n"
   ]
  },
  {
   "cell_type": "code",
   "execution_count": 64,
   "id": "4561b2df",
   "metadata": {},
   "outputs": [
    {
     "data": {
      "image/png": "[encoded data removed]",
      "text/plain": [
       "<Figure size 640x480 with 1 Axes>"
      ]
     },
     "metadata": {},
     "output_type": "display_data"
    }
   ],
   "source": [
    "\n",
    "# df1 = df.groupby(\"Store\")[\"Weekly_Sales\"].sum()\n",
    "\n",
    "#  bar chart\n",
    "# plt.bar(df1.index, df1.values)\n",
    "\n",
    "# labels and title\n",
    "# plt.xlabel(\"Store Number\")\n",
    "# plt.ylabel(\"Total Weekly Sales (Millions)\")\n",
    "# plt.title(\"Total Sales per Store\")\n",
    "# plt.grid(axis='y', alpha=0.5)\n",
    "# plt.show()\n",
    "\n",
    "df1.plot(kind = 'bar', alpha = 0.9)\n",
    "plt.title('Total Sales Per Store')\n",
    "plt.show()\n",
    "\n"
   ]
  },
  {
   "cell_type": "code",
   "execution_count": 65,
   "id": "e4870c6f",
   "metadata": {},
   "outputs": [],
   "source": [
    "#After disovering the overview, it is important to know the top performing shops and the least performing shops as well#"
   ]
  },
  {
   "cell_type": "code",
   "execution_count": 67,
   "id": "041f9d79",
   "metadata": {
    "scrolled": true
   },
   "outputs": [],
   "source": [
    "#  df.groupby('Store')[['Weekly_Sales']].min().round(4).sort_values('Weekly_Sales',ascending=False).head(10)\n",
    "df3 = df1.sort_values( by = 'Weekly_Sales', ascending = False)[['Weekly_Sales']].head(10)"
   ]
  },
  {
   "cell_type": "code",
   "execution_count": 68,
   "id": "c8daf86f",
   "metadata": {},
   "outputs": [
    {
     "data": {
      "text/html": [
       "<div>\n",
       "<style scoped>\n",
       "    .dataframe tbody tr th:only-of-type {\n",
       "        vertical-align: middle;\n",
       "    }\n",
       "\n",
       "    .dataframe tbody tr th {\n",
       "        vertical-align: top;\n",
       "    }\n",
       "\n",
       "    .dataframe thead th {\n",
       "        text-align: right;\n",
       "    }\n",
       "</style>\n",
       "<table border=\"1\" class=\"dataframe\">\n",
       "  <thead>\n",
       "    <tr style=\"text-align: right;\">\n",
       "      <th></th>\n",
       "      <th>Weekly_Sales</th>\n",
       "    </tr>\n",
       "    <tr>\n",
       "      <th>Store</th>\n",
       "      <th></th>\n",
       "    </tr>\n",
       "  </thead>\n",
       "  <tbody>\n",
       "    <tr>\n",
       "      <th>14</th>\n",
       "      <td>3818686.45</td>\n",
       "    </tr>\n",
       "    <tr>\n",
       "      <th>20</th>\n",
       "      <td>3766687.43</td>\n",
       "    </tr>\n",
       "    <tr>\n",
       "      <th>10</th>\n",
       "      <td>3749057.69</td>\n",
       "    </tr>\n",
       "    <tr>\n",
       "      <th>4</th>\n",
       "      <td>3676388.98</td>\n",
       "    </tr>\n",
       "    <tr>\n",
       "      <th>13</th>\n",
       "      <td>3595903.20</td>\n",
       "    </tr>\n",
       "    <tr>\n",
       "      <th>2</th>\n",
       "      <td>3436007.68</td>\n",
       "    </tr>\n",
       "    <tr>\n",
       "      <th>27</th>\n",
       "      <td>3078162.08</td>\n",
       "    </tr>\n",
       "    <tr>\n",
       "      <th>23</th>\n",
       "      <td>2734277.10</td>\n",
       "    </tr>\n",
       "    <tr>\n",
       "      <th>6</th>\n",
       "      <td>2727575.18</td>\n",
       "    </tr>\n",
       "    <tr>\n",
       "      <th>19</th>\n",
       "      <td>2678206.42</td>\n",
       "    </tr>\n",
       "  </tbody>\n",
       "</table>\n",
       "</div>"
      ],
      "text/plain": [
       "       Weekly_Sales\n",
       "Store              \n",
       "14       3818686.45\n",
       "20       3766687.43\n",
       "10       3749057.69\n",
       "4        3676388.98\n",
       "13       3595903.20\n",
       "2        3436007.68\n",
       "27       3078162.08\n",
       "23       2734277.10\n",
       "6        2727575.18\n",
       "19       2678206.42"
      ]
     },
     "execution_count": 68,
     "metadata": {},
     "output_type": "execute_result"
    }
   ],
   "source": [
    "df3"
   ]
  },
  {
   "cell_type": "code",
   "execution_count": 69,
   "id": "6e005e0b",
   "metadata": {
    "scrolled": false
   },
   "outputs": [
    {
     "data": {
      "image/png": "[encoded data removed]",
      "text/plain": [
       "<Figure size 640x480 with 1 Axes>"
      ]
     },
     "metadata": {},
     "output_type": "display_data"
    }
   ],
   "source": [
    "df3.plot(kind = 'bar', alpha = 0.9)\n",
    "plt.title('Top 10 Profitable Stores')\n",
    "plt.show()\n"
   ]
  },
  {
   "cell_type": "code",
   "execution_count": 70,
   "id": "50cb326b",
   "metadata": {},
   "outputs": [],
   "source": [
    "df4 = df1.sort_values( by = 'Weekly_Sales', ascending = True)[['Weekly_Sales']].head(10)"
   ]
  },
  {
   "cell_type": "code",
   "execution_count": 71,
   "id": "ea4b2bbd",
   "metadata": {},
   "outputs": [
    {
     "data": {
      "text/html": [
       "<div>\n",
       "<style scoped>\n",
       "    .dataframe tbody tr th:only-of-type {\n",
       "        vertical-align: middle;\n",
       "    }\n",
       "\n",
       "    .dataframe tbody tr th {\n",
       "        vertical-align: top;\n",
       "    }\n",
       "\n",
       "    .dataframe thead th {\n",
       "        text-align: right;\n",
       "    }\n",
       "</style>\n",
       "<table border=\"1\" class=\"dataframe\">\n",
       "  <thead>\n",
       "    <tr style=\"text-align: right;\">\n",
       "      <th></th>\n",
       "      <th>Weekly_Sales</th>\n",
       "    </tr>\n",
       "    <tr>\n",
       "      <th>Store</th>\n",
       "      <th></th>\n",
       "    </tr>\n",
       "  </thead>\n",
       "  <tbody>\n",
       "    <tr>\n",
       "      <th>33</th>\n",
       "      <td>331173.51</td>\n",
       "    </tr>\n",
       "    <tr>\n",
       "      <th>44</th>\n",
       "      <td>376233.89</td>\n",
       "    </tr>\n",
       "    <tr>\n",
       "      <th>36</th>\n",
       "      <td>489372.02</td>\n",
       "    </tr>\n",
       "    <tr>\n",
       "      <th>38</th>\n",
       "      <td>499267.66</td>\n",
       "    </tr>\n",
       "    <tr>\n",
       "      <th>5</th>\n",
       "      <td>507900.07</td>\n",
       "    </tr>\n",
       "    <tr>\n",
       "      <th>30</th>\n",
       "      <td>519354.88</td>\n",
       "    </tr>\n",
       "    <tr>\n",
       "      <th>37</th>\n",
       "      <td>605791.46</td>\n",
       "    </tr>\n",
       "    <tr>\n",
       "      <th>3</th>\n",
       "      <td>605990.41</td>\n",
       "    </tr>\n",
       "    <tr>\n",
       "      <th>42</th>\n",
       "      <td>674919.45</td>\n",
       "    </tr>\n",
       "    <tr>\n",
       "      <th>43</th>\n",
       "      <td>725043.04</td>\n",
       "    </tr>\n",
       "  </tbody>\n",
       "</table>\n",
       "</div>"
      ],
      "text/plain": [
       "       Weekly_Sales\n",
       "Store              \n",
       "33        331173.51\n",
       "44        376233.89\n",
       "36        489372.02\n",
       "38        499267.66\n",
       "5         507900.07\n",
       "30        519354.88\n",
       "37        605791.46\n",
       "3         605990.41\n",
       "42        674919.45\n",
       "43        725043.04"
      ]
     },
     "execution_count": 71,
     "metadata": {},
     "output_type": "execute_result"
    }
   ],
   "source": [
    "df4"
   ]
  },
  {
   "cell_type": "code",
   "execution_count": 72,
   "id": "d2f84e5b",
   "metadata": {},
   "outputs": [
    {
     "data": {
      "image/png": "[encoded data removed]",
      "text/plain": [
       "<Figure size 640x480 with 1 Axes>"
      ]
     },
     "metadata": {},
     "output_type": "display_data"
    }
   ],
   "source": [
    "\n",
    "df4.plot(kind = 'bar', alpha = 0.9)\n",
    "plt.title('Least 10 Profitable Stores')\n",
    "plt.show()"
   ]
  },
  {
   "cell_type": "code",
   "execution_count": null,
   "id": "b346c6b8",
   "metadata": {},
   "outputs": [],
   "source": [
    "# the stores above need to be analysed carefully to know the conditions surrounding their low sales. "
   ]
  },
  {
   "cell_type": "code",
   "execution_count": 84,
   "id": "6b843621",
   "metadata": {},
   "outputs": [],
   "source": [
    "df['Date'] = pd.to_datetime(df['Date'])"
   ]
  },
  {
   "cell_type": "code",
   "execution_count": 85,
   "id": "68b98279",
   "metadata": {},
   "outputs": [],
   "source": [
    "df['Quarter'] = df['Date'].dt.quarter"
   ]
  },
  {
   "cell_type": "code",
   "execution_count": 86,
   "id": "27fc73cc",
   "metadata": {},
   "outputs": [],
   "source": [
    "quarterly_sales = df.groupby('Quarter')['Weekly_Sales'].mean()"
   ]
  },
  {
   "cell_type": "code",
   "execution_count": 92,
   "id": "aed5a2be",
   "metadata": {},
   "outputs": [
    {
     "data": {
      "image/png": "[encoded data removed]",
      "text/plain": [
       "<Figure size 640x480 with 1 Axes>"
      ]
     },
     "metadata": {},
     "output_type": "display_data"
    }
   ],
   "source": [
    "plt.plot(quarterly_sales.index, quarterly_sales.values)\n",
    "plt.xlabel('Quarter')\n",
    "plt.ylabel('Weekly Sales')\n",
    "plt.title('Quarterly Sales')\n",
    "plt.show()"
   ]
  },
  {
   "cell_type": "code",
   "execution_count": 89,
   "id": "e0a87dbd",
   "metadata": {},
   "outputs": [],
   "source": [
    "df['Day'] = pd.DatetimeIndex(df['Date']).day\n",
    "df['Month'] = pd.DatetimeIndex(df['Date']).month\n",
    "df['Year'] = pd.DatetimeIndex(df['Date']).year"
   ]
  },
  {
   "cell_type": "code",
   "execution_count": 81,
   "id": "0e39fcc5",
   "metadata": {},
   "outputs": [
    {
     "data": {
      "text/plain": [
       "Text(0.5, 1.0, 'Yearly Sales')"
      ]
     },
     "execution_count": 81,
     "metadata": {},
     "output_type": "execute_result"
    },
    {
     "data": {
      "text/plain": [
       "<Figure size 800x560 with 0 Axes>"
      ]
     },
     "metadata": {},
     "output_type": "display_data"
    },
    {
     "data": {
      "image/png": "[encoded data removed]",
      "text/plain": [
       "<Figure size 640x480 with 1 Axes>"
      ]
     },
     "metadata": {},
     "output_type": "display_data"
    }
   ],
   "source": [
    "plt.figure(figsize=(10,7), dpi=80)\n",
    "df.groupby('Year')[['Weekly_Sales']].sum().plot(kind='bar', legend=False)\n",
    "plt.title('Yearly Sales')"
   ]
  },
  {
   "cell_type": "code",
   "execution_count": 93,
   "id": "0b07c4bb",
   "metadata": {},
   "outputs": [
    {
     "data": {
      "text/plain": [
       "Text(0.5, 1.0, 'Monthly Sales')"
      ]
     },
     "execution_count": 93,
     "metadata": {},
     "output_type": "execute_result"
    },
    {
     "data": {
      "text/plain": [
       "<Figure size 800x560 with 0 Axes>"
      ]
     },
     "metadata": {},
     "output_type": "display_data"
    },
    {
     "data": {
      "image/png": "[encoded data removed]",
      "text/plain": [
       "<Figure size 640x480 with 1 Axes>"
      ]
     },
     "metadata": {},
     "output_type": "display_data"
    }
   ],
   "source": [
    "plt.figure(figsize=(10,7), dpi=80)\n",
    "df.groupby('Month')[['Weekly_Sales']].sum().plot(kind='bar', legend=False)\n",
    "plt.title('Monthly Sales')"
   ]
  },
  {
   "cell_type": "markdown",
   "id": "01707488",
   "metadata": {},
   "source": [
    "**INSIGHTS**"
   ]
  },
  {
   "cell_type": "markdown",
   "id": "f2a2f0da",
   "metadata": {},
   "source": [
    "1. Store number 14, 20 and 10 are the most profitable stores over the last 4 years. their business practices must be studied \n",
    "and improved upon if not maintained. \n",
    "2. Store 33, 4 and 46 are the least profitables stores, . thier business activities and practices such as customer service\n",
    "public relations and consumer perception must be looked into. \n",
    "3. 4th quarter of every year has been the most profitable year and it can be related to the festive season or end of year programmes . "
   ]
  },
  {
   "cell_type": "code",
   "execution_count": null,
   "id": "16cc888c",
   "metadata": {},
   "outputs": [],
   "source": []
  },
  {
   "cell_type": "code",
   "execution_count": null,
   "id": "ed622360",
   "metadata": {},
   "outputs": [],
   "source": []
  }
 ],
 "metadata": {
  "kernelspec": {
   "display_name": "Python 3 (ipykernel)",
   "language": "python",
   "name": "python3"
  },
  "language_info": {
   "codemirror_mode": {
    "name": "ipython",
    "version": 3
   },
   "file_extension": ".py",
   "mimetype": "text/x-python",
   "name": "python",
   "nbconvert_exporter": "python",
   "pygments_lexer": "ipython3",
   "version": "3.9.13"
  }
 },
 "nbformat": 4,
 "nbformat_minor": 5
}
