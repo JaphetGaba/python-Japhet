{
 "cells": [
  {
   "cell_type": "markdown",
   "id": "08cb8d1d",
   "metadata": {},
   "source": [
    "**Data Importation**"
   ]
  },
  {
   "cell_type": "code",
   "execution_count": 3,
   "id": "d17584fd",
   "metadata": {},
   "outputs": [],
   "source": [
    "import numpy as np\n",
    "import pandas as pd\n",
    "import matplotlib.pyplot as plt\n"
   ]
  },
  {
   "cell_type": "markdown",
   "id": "b8fff98f",
   "metadata": {},
   "source": [
    "**Business questions**\n",
    "1. What is the highest and most valuable segment?\n",
    "2. Which countries generated the highest sales ?\n",
    "3. What is the trend of our profits ?\n",
    "4. Which category generated the most profit ?\n",
    "5. Who is our most loyal customer ?\n"
   ]
  },
  {
   "cell_type": "code",
   "execution_count": 4,
   "id": "e2552cb9",
   "metadata": {},
   "outputs": [],
   "source": [
    "super_store = pd.read_csv(\"superstore.csv\", encoding = 'latin')"
   ]
  },
  {
   "cell_type": "code",
   "execution_count": 5,
   "id": "36ad50ef",
   "metadata": {},
   "outputs": [],
   "source": [
    "pd.set_option('display.max_columns', None)"
   ]
  },
  {
   "cell_type": "markdown",
   "id": "806b0d27",
   "metadata": {},
   "source": [
    "**Data Exploration**"
   ]
  },
  {
   "cell_type": "code",
   "execution_count": 6,
   "id": "337c8af5",
   "metadata": {
    "scrolled": true
   },
   "outputs": [
    {
     "data": {
      "text/html": [
       "<div>\n",
       "<style scoped>\n",
       "    .dataframe tbody tr th:only-of-type {\n",
       "        vertical-align: middle;\n",
       "    }\n",
       "\n",
       "    .dataframe tbody tr th {\n",
       "        vertical-align: top;\n",
       "    }\n",
       "\n",
       "    .dataframe thead th {\n",
       "        text-align: right;\n",
       "    }\n",
       "</style>\n",
       "<table border=\"1\" class=\"dataframe\">\n",
       "  <thead>\n",
       "    <tr style=\"text-align: right;\">\n",
       "      <th></th>\n",
       "      <th>Row ID</th>\n",
       "      <th>Order ID</th>\n",
       "      <th>Order Date</th>\n",
       "      <th>Ship Date</th>\n",
       "      <th>Ship Mode</th>\n",
       "      <th>Customer ID</th>\n",
       "      <th>Customer Name</th>\n",
       "      <th>Segment</th>\n",
       "      <th>City</th>\n",
       "      <th>State</th>\n",
       "      <th>Country</th>\n",
       "      <th>Postal Code</th>\n",
       "      <th>Market</th>\n",
       "      <th>Region</th>\n",
       "      <th>Product ID</th>\n",
       "      <th>Category</th>\n",
       "      <th>Sub-Category</th>\n",
       "      <th>Product Name</th>\n",
       "      <th>Sales</th>\n",
       "      <th>Quantity</th>\n",
       "      <th>Discount</th>\n",
       "      <th>Profit</th>\n",
       "      <th>Shipping Cost</th>\n",
       "      <th>Order Priority</th>\n",
       "    </tr>\n",
       "  </thead>\n",
       "  <tbody>\n",
       "    <tr>\n",
       "      <th>0</th>\n",
       "      <td>42433</td>\n",
       "      <td>AG-2011-2040</td>\n",
       "      <td>1/1/2011</td>\n",
       "      <td>6/1/2011</td>\n",
       "      <td>Standard Class</td>\n",
       "      <td>TB-11280</td>\n",
       "      <td>Toby Braunhardt</td>\n",
       "      <td>Consumer</td>\n",
       "      <td>Constantine</td>\n",
       "      <td>Constantine</td>\n",
       "      <td>Algeria</td>\n",
       "      <td>NaN</td>\n",
       "      <td>Africa</td>\n",
       "      <td>Africa</td>\n",
       "      <td>OFF-TEN-10000025</td>\n",
       "      <td>Office Supplies</td>\n",
       "      <td>Storage</td>\n",
       "      <td>Tenex Lockers, Blue</td>\n",
       "      <td>408.300</td>\n",
       "      <td>2</td>\n",
       "      <td>0.0</td>\n",
       "      <td>106.140</td>\n",
       "      <td>35.46</td>\n",
       "      <td>Medium</td>\n",
       "    </tr>\n",
       "    <tr>\n",
       "      <th>1</th>\n",
       "      <td>22253</td>\n",
       "      <td>IN-2011-47883</td>\n",
       "      <td>1/1/2011</td>\n",
       "      <td>8/1/2011</td>\n",
       "      <td>Standard Class</td>\n",
       "      <td>JH-15985</td>\n",
       "      <td>Joseph Holt</td>\n",
       "      <td>Consumer</td>\n",
       "      <td>Wagga Wagga</td>\n",
       "      <td>New South Wales</td>\n",
       "      <td>Australia</td>\n",
       "      <td>NaN</td>\n",
       "      <td>APAC</td>\n",
       "      <td>Oceania</td>\n",
       "      <td>OFF-SU-10000618</td>\n",
       "      <td>Office Supplies</td>\n",
       "      <td>Supplies</td>\n",
       "      <td>Acme Trimmer, High Speed</td>\n",
       "      <td>120.366</td>\n",
       "      <td>3</td>\n",
       "      <td>0.1</td>\n",
       "      <td>36.036</td>\n",
       "      <td>9.72</td>\n",
       "      <td>Medium</td>\n",
       "    </tr>\n",
       "    <tr>\n",
       "      <th>2</th>\n",
       "      <td>48883</td>\n",
       "      <td>HU-2011-1220</td>\n",
       "      <td>1/1/2011</td>\n",
       "      <td>5/1/2011</td>\n",
       "      <td>Second Class</td>\n",
       "      <td>AT-735</td>\n",
       "      <td>Annie Thurman</td>\n",
       "      <td>Consumer</td>\n",
       "      <td>Budapest</td>\n",
       "      <td>Budapest</td>\n",
       "      <td>Hungary</td>\n",
       "      <td>NaN</td>\n",
       "      <td>EMEA</td>\n",
       "      <td>EMEA</td>\n",
       "      <td>OFF-TEN-10001585</td>\n",
       "      <td>Office Supplies</td>\n",
       "      <td>Storage</td>\n",
       "      <td>Tenex Box, Single Width</td>\n",
       "      <td>66.120</td>\n",
       "      <td>4</td>\n",
       "      <td>0.0</td>\n",
       "      <td>29.640</td>\n",
       "      <td>8.17</td>\n",
       "      <td>High</td>\n",
       "    </tr>\n",
       "    <tr>\n",
       "      <th>3</th>\n",
       "      <td>11731</td>\n",
       "      <td>IT-2011-3647632</td>\n",
       "      <td>1/1/2011</td>\n",
       "      <td>5/1/2011</td>\n",
       "      <td>Second Class</td>\n",
       "      <td>EM-14140</td>\n",
       "      <td>Eugene Moren</td>\n",
       "      <td>Home Office</td>\n",
       "      <td>Stockholm</td>\n",
       "      <td>Stockholm</td>\n",
       "      <td>Sweden</td>\n",
       "      <td>NaN</td>\n",
       "      <td>EU</td>\n",
       "      <td>North</td>\n",
       "      <td>OFF-PA-10001492</td>\n",
       "      <td>Office Supplies</td>\n",
       "      <td>Paper</td>\n",
       "      <td>Enermax Note Cards, Premium</td>\n",
       "      <td>44.865</td>\n",
       "      <td>3</td>\n",
       "      <td>0.5</td>\n",
       "      <td>-26.055</td>\n",
       "      <td>4.82</td>\n",
       "      <td>High</td>\n",
       "    </tr>\n",
       "    <tr>\n",
       "      <th>4</th>\n",
       "      <td>22255</td>\n",
       "      <td>IN-2011-47883</td>\n",
       "      <td>1/1/2011</td>\n",
       "      <td>8/1/2011</td>\n",
       "      <td>Standard Class</td>\n",
       "      <td>JH-15985</td>\n",
       "      <td>Joseph Holt</td>\n",
       "      <td>Consumer</td>\n",
       "      <td>Wagga Wagga</td>\n",
       "      <td>New South Wales</td>\n",
       "      <td>Australia</td>\n",
       "      <td>NaN</td>\n",
       "      <td>APAC</td>\n",
       "      <td>Oceania</td>\n",
       "      <td>FUR-FU-10003447</td>\n",
       "      <td>Furniture</td>\n",
       "      <td>Furnishings</td>\n",
       "      <td>Eldon Light Bulb, Duo Pack</td>\n",
       "      <td>113.670</td>\n",
       "      <td>5</td>\n",
       "      <td>0.1</td>\n",
       "      <td>37.770</td>\n",
       "      <td>4.70</td>\n",
       "      <td>Medium</td>\n",
       "    </tr>\n",
       "  </tbody>\n",
       "</table>\n",
       "</div>"
      ],
      "text/plain": [
       "   Row ID         Order ID Order Date Ship Date       Ship Mode Customer ID  \\\n",
       "0   42433     AG-2011-2040   1/1/2011  6/1/2011  Standard Class    TB-11280   \n",
       "1   22253    IN-2011-47883   1/1/2011  8/1/2011  Standard Class    JH-15985   \n",
       "2   48883     HU-2011-1220   1/1/2011  5/1/2011    Second Class      AT-735   \n",
       "3   11731  IT-2011-3647632   1/1/2011  5/1/2011    Second Class    EM-14140   \n",
       "4   22255    IN-2011-47883   1/1/2011  8/1/2011  Standard Class    JH-15985   \n",
       "\n",
       "     Customer Name      Segment         City            State    Country  \\\n",
       "0  Toby Braunhardt     Consumer  Constantine      Constantine    Algeria   \n",
       "1      Joseph Holt     Consumer  Wagga Wagga  New South Wales  Australia   \n",
       "2    Annie Thurman     Consumer     Budapest         Budapest    Hungary   \n",
       "3     Eugene Moren  Home Office    Stockholm        Stockholm     Sweden   \n",
       "4      Joseph Holt     Consumer  Wagga Wagga  New South Wales  Australia   \n",
       "\n",
       "   Postal Code  Market   Region        Product ID         Category  \\\n",
       "0          NaN  Africa   Africa  OFF-TEN-10000025  Office Supplies   \n",
       "1          NaN    APAC  Oceania   OFF-SU-10000618  Office Supplies   \n",
       "2          NaN    EMEA     EMEA  OFF-TEN-10001585  Office Supplies   \n",
       "3          NaN      EU    North   OFF-PA-10001492  Office Supplies   \n",
       "4          NaN    APAC  Oceania   FUR-FU-10003447        Furniture   \n",
       "\n",
       "  Sub-Category                 Product Name    Sales  Quantity  Discount  \\\n",
       "0      Storage          Tenex Lockers, Blue  408.300         2       0.0   \n",
       "1     Supplies     Acme Trimmer, High Speed  120.366         3       0.1   \n",
       "2      Storage      Tenex Box, Single Width   66.120         4       0.0   \n",
       "3        Paper  Enermax Note Cards, Premium   44.865         3       0.5   \n",
       "4  Furnishings   Eldon Light Bulb, Duo Pack  113.670         5       0.1   \n",
       "\n",
       "    Profit  Shipping Cost Order Priority  \n",
       "0  106.140          35.46         Medium  \n",
       "1   36.036           9.72         Medium  \n",
       "2   29.640           8.17           High  \n",
       "3  -26.055           4.82           High  \n",
       "4   37.770           4.70         Medium  "
      ]
     },
     "execution_count": 6,
     "metadata": {},
     "output_type": "execute_result"
    }
   ],
   "source": [
    "super_store.head()"
   ]
  },
  {
   "cell_type": "code",
   "execution_count": 7,
   "id": "3bd66c98",
   "metadata": {},
   "outputs": [
    {
     "data": {
      "text/html": [
       "<div>\n",
       "<style scoped>\n",
       "    .dataframe tbody tr th:only-of-type {\n",
       "        vertical-align: middle;\n",
       "    }\n",
       "\n",
       "    .dataframe tbody tr th {\n",
       "        vertical-align: top;\n",
       "    }\n",
       "\n",
       "    .dataframe thead th {\n",
       "        text-align: right;\n",
       "    }\n",
       "</style>\n",
       "<table border=\"1\" class=\"dataframe\">\n",
       "  <thead>\n",
       "    <tr style=\"text-align: right;\">\n",
       "      <th></th>\n",
       "      <th>Row ID</th>\n",
       "      <th>Order ID</th>\n",
       "      <th>Order Date</th>\n",
       "      <th>Ship Date</th>\n",
       "      <th>Ship Mode</th>\n",
       "      <th>Customer ID</th>\n",
       "      <th>Customer Name</th>\n",
       "      <th>Segment</th>\n",
       "      <th>City</th>\n",
       "      <th>State</th>\n",
       "      <th>Country</th>\n",
       "      <th>Postal Code</th>\n",
       "      <th>Market</th>\n",
       "      <th>Region</th>\n",
       "      <th>Product ID</th>\n",
       "      <th>Category</th>\n",
       "      <th>Sub-Category</th>\n",
       "      <th>Product Name</th>\n",
       "      <th>Sales</th>\n",
       "      <th>Quantity</th>\n",
       "      <th>Discount</th>\n",
       "      <th>Profit</th>\n",
       "      <th>Shipping Cost</th>\n",
       "      <th>Order Priority</th>\n",
       "    </tr>\n",
       "  </thead>\n",
       "  <tbody>\n",
       "    <tr>\n",
       "      <th>51285</th>\n",
       "      <td>32593</td>\n",
       "      <td>CA-2014-115427</td>\n",
       "      <td>31-12-2014</td>\n",
       "      <td>4/1/2015</td>\n",
       "      <td>Standard Class</td>\n",
       "      <td>EB-13975</td>\n",
       "      <td>Erica Bern</td>\n",
       "      <td>Corporate</td>\n",
       "      <td>Fairfield</td>\n",
       "      <td>California</td>\n",
       "      <td>United States</td>\n",
       "      <td>94533.0</td>\n",
       "      <td>US</td>\n",
       "      <td>West</td>\n",
       "      <td>OFF-BI-10002103</td>\n",
       "      <td>Office Supplies</td>\n",
       "      <td>Binders</td>\n",
       "      <td>Cardinal Slant-D Ring Binder, Heavy Gauge Vinyl</td>\n",
       "      <td>13.904</td>\n",
       "      <td>2</td>\n",
       "      <td>0.2</td>\n",
       "      <td>4.5188</td>\n",
       "      <td>0.89</td>\n",
       "      <td>Medium</td>\n",
       "    </tr>\n",
       "    <tr>\n",
       "      <th>51286</th>\n",
       "      <td>47594</td>\n",
       "      <td>MO-2014-2560</td>\n",
       "      <td>31-12-2014</td>\n",
       "      <td>5/1/2015</td>\n",
       "      <td>Standard Class</td>\n",
       "      <td>LP-7095</td>\n",
       "      <td>Liz Preis</td>\n",
       "      <td>Consumer</td>\n",
       "      <td>Agadir</td>\n",
       "      <td>Souss-Massa-Draâ</td>\n",
       "      <td>Morocco</td>\n",
       "      <td>NaN</td>\n",
       "      <td>Africa</td>\n",
       "      <td>Africa</td>\n",
       "      <td>OFF-WIL-10001069</td>\n",
       "      <td>Office Supplies</td>\n",
       "      <td>Binders</td>\n",
       "      <td>Wilson Jones Hole Reinforcements, Clear</td>\n",
       "      <td>3.990</td>\n",
       "      <td>1</td>\n",
       "      <td>0.0</td>\n",
       "      <td>0.4200</td>\n",
       "      <td>0.49</td>\n",
       "      <td>Medium</td>\n",
       "    </tr>\n",
       "    <tr>\n",
       "      <th>51287</th>\n",
       "      <td>8857</td>\n",
       "      <td>MX-2014-110527</td>\n",
       "      <td>31-12-2014</td>\n",
       "      <td>2/1/2015</td>\n",
       "      <td>Second Class</td>\n",
       "      <td>CM-12190</td>\n",
       "      <td>Charlotte Melton</td>\n",
       "      <td>Consumer</td>\n",
       "      <td>Managua</td>\n",
       "      <td>Managua</td>\n",
       "      <td>Nicaragua</td>\n",
       "      <td>NaN</td>\n",
       "      <td>LATAM</td>\n",
       "      <td>Central</td>\n",
       "      <td>OFF-LA-10004182</td>\n",
       "      <td>Office Supplies</td>\n",
       "      <td>Labels</td>\n",
       "      <td>Hon Color Coded Labels, 5000 Label Set</td>\n",
       "      <td>26.400</td>\n",
       "      <td>3</td>\n",
       "      <td>0.0</td>\n",
       "      <td>12.3600</td>\n",
       "      <td>0.35</td>\n",
       "      <td>Medium</td>\n",
       "    </tr>\n",
       "    <tr>\n",
       "      <th>51288</th>\n",
       "      <td>6852</td>\n",
       "      <td>MX-2014-114783</td>\n",
       "      <td>31-12-2014</td>\n",
       "      <td>6/1/2015</td>\n",
       "      <td>Standard Class</td>\n",
       "      <td>TD-20995</td>\n",
       "      <td>Tamara Dahlen</td>\n",
       "      <td>Consumer</td>\n",
       "      <td>Juárez</td>\n",
       "      <td>Chihuahua</td>\n",
       "      <td>Mexico</td>\n",
       "      <td>NaN</td>\n",
       "      <td>LATAM</td>\n",
       "      <td>North</td>\n",
       "      <td>OFF-LA-10000413</td>\n",
       "      <td>Office Supplies</td>\n",
       "      <td>Labels</td>\n",
       "      <td>Hon Legal Exhibit Labels, Alphabetical</td>\n",
       "      <td>7.120</td>\n",
       "      <td>1</td>\n",
       "      <td>0.0</td>\n",
       "      <td>0.5600</td>\n",
       "      <td>0.20</td>\n",
       "      <td>Medium</td>\n",
       "    </tr>\n",
       "    <tr>\n",
       "      <th>51289</th>\n",
       "      <td>36388</td>\n",
       "      <td>CA-2014-156720</td>\n",
       "      <td>31-12-2014</td>\n",
       "      <td>4/1/2015</td>\n",
       "      <td>Standard Class</td>\n",
       "      <td>JM-15580</td>\n",
       "      <td>Jill Matthias</td>\n",
       "      <td>Consumer</td>\n",
       "      <td>Loveland</td>\n",
       "      <td>Colorado</td>\n",
       "      <td>United States</td>\n",
       "      <td>80538.0</td>\n",
       "      <td>US</td>\n",
       "      <td>West</td>\n",
       "      <td>OFF-FA-10003472</td>\n",
       "      <td>Office Supplies</td>\n",
       "      <td>Fasteners</td>\n",
       "      <td>Bagged Rubber Bands</td>\n",
       "      <td>3.024</td>\n",
       "      <td>3</td>\n",
       "      <td>0.2</td>\n",
       "      <td>-0.6048</td>\n",
       "      <td>0.17</td>\n",
       "      <td>Medium</td>\n",
       "    </tr>\n",
       "  </tbody>\n",
       "</table>\n",
       "</div>"
      ],
      "text/plain": [
       "       Row ID        Order ID  Order Date Ship Date       Ship Mode  \\\n",
       "51285   32593  CA-2014-115427  31-12-2014  4/1/2015  Standard Class   \n",
       "51286   47594    MO-2014-2560  31-12-2014  5/1/2015  Standard Class   \n",
       "51287    8857  MX-2014-110527  31-12-2014  2/1/2015    Second Class   \n",
       "51288    6852  MX-2014-114783  31-12-2014  6/1/2015  Standard Class   \n",
       "51289   36388  CA-2014-156720  31-12-2014  4/1/2015  Standard Class   \n",
       "\n",
       "      Customer ID     Customer Name    Segment       City             State  \\\n",
       "51285    EB-13975        Erica Bern  Corporate  Fairfield        California   \n",
       "51286     LP-7095         Liz Preis   Consumer     Agadir  Souss-Massa-Draâ   \n",
       "51287    CM-12190  Charlotte Melton   Consumer    Managua           Managua   \n",
       "51288    TD-20995     Tamara Dahlen   Consumer     Juárez         Chihuahua   \n",
       "51289    JM-15580     Jill Matthias   Consumer   Loveland          Colorado   \n",
       "\n",
       "             Country  Postal Code  Market   Region        Product ID  \\\n",
       "51285  United States      94533.0      US     West   OFF-BI-10002103   \n",
       "51286        Morocco          NaN  Africa   Africa  OFF-WIL-10001069   \n",
       "51287      Nicaragua          NaN   LATAM  Central   OFF-LA-10004182   \n",
       "51288         Mexico          NaN   LATAM    North   OFF-LA-10000413   \n",
       "51289  United States      80538.0      US     West   OFF-FA-10003472   \n",
       "\n",
       "              Category Sub-Category  \\\n",
       "51285  Office Supplies      Binders   \n",
       "51286  Office Supplies      Binders   \n",
       "51287  Office Supplies       Labels   \n",
       "51288  Office Supplies       Labels   \n",
       "51289  Office Supplies    Fasteners   \n",
       "\n",
       "                                          Product Name   Sales  Quantity  \\\n",
       "51285  Cardinal Slant-D Ring Binder, Heavy Gauge Vinyl  13.904         2   \n",
       "51286          Wilson Jones Hole Reinforcements, Clear   3.990         1   \n",
       "51287           Hon Color Coded Labels, 5000 Label Set  26.400         3   \n",
       "51288           Hon Legal Exhibit Labels, Alphabetical   7.120         1   \n",
       "51289                              Bagged Rubber Bands   3.024         3   \n",
       "\n",
       "       Discount   Profit  Shipping Cost Order Priority  \n",
       "51285       0.2   4.5188           0.89         Medium  \n",
       "51286       0.0   0.4200           0.49         Medium  \n",
       "51287       0.0  12.3600           0.35         Medium  \n",
       "51288       0.0   0.5600           0.20         Medium  \n",
       "51289       0.2  -0.6048           0.17         Medium  "
      ]
     },
     "execution_count": 7,
     "metadata": {},
     "output_type": "execute_result"
    }
   ],
   "source": [
    "super_store.tail()"
   ]
  },
  {
   "cell_type": "code",
   "execution_count": 8,
   "id": "392412c3",
   "metadata": {},
   "outputs": [
    {
     "data": {
      "text/plain": [
       "(51290, 24)"
      ]
     },
     "execution_count": 8,
     "metadata": {},
     "output_type": "execute_result"
    }
   ],
   "source": [
    "super_store.shape"
   ]
  },
  {
   "cell_type": "code",
   "execution_count": 9,
   "id": "f04e6528",
   "metadata": {},
   "outputs": [
    {
     "data": {
      "text/plain": [
       "2"
      ]
     },
     "execution_count": 9,
     "metadata": {},
     "output_type": "execute_result"
    }
   ],
   "source": [
    "super_store.ndim"
   ]
  },
  {
   "cell_type": "code",
   "execution_count": 10,
   "id": "fac16225",
   "metadata": {},
   "outputs": [
    {
     "name": "stdout",
     "output_type": "stream",
     "text": [
      "<class 'pandas.core.frame.DataFrame'>\n",
      "RangeIndex: 51290 entries, 0 to 51289\n",
      "Data columns (total 24 columns):\n",
      " #   Column          Non-Null Count  Dtype  \n",
      "---  ------          --------------  -----  \n",
      " 0   Row ID          51290 non-null  int64  \n",
      " 1   Order ID        51290 non-null  object \n",
      " 2   Order Date      51290 non-null  object \n",
      " 3   Ship Date       51290 non-null  object \n",
      " 4   Ship Mode       51290 non-null  object \n",
      " 5   Customer ID     51290 non-null  object \n",
      " 6   Customer Name   51290 non-null  object \n",
      " 7   Segment         51290 non-null  object \n",
      " 8   City            51290 non-null  object \n",
      " 9   State           51290 non-null  object \n",
      " 10  Country         51290 non-null  object \n",
      " 11  Postal Code     9994 non-null   float64\n",
      " 12  Market          51290 non-null  object \n",
      " 13  Region          51290 non-null  object \n",
      " 14  Product ID      51290 non-null  object \n",
      " 15  Category        51290 non-null  object \n",
      " 16  Sub-Category    51290 non-null  object \n",
      " 17  Product Name    51290 non-null  object \n",
      " 18  Sales           51290 non-null  float64\n",
      " 19  Quantity        51290 non-null  int64  \n",
      " 20  Discount        51290 non-null  float64\n",
      " 21  Profit          51290 non-null  float64\n",
      " 22  Shipping Cost   51290 non-null  float64\n",
      " 23  Order Priority  51290 non-null  object \n",
      "dtypes: float64(5), int64(2), object(17)\n",
      "memory usage: 9.4+ MB\n"
     ]
    }
   ],
   "source": [
    "super_store.info()"
   ]
  },
  {
   "cell_type": "code",
   "execution_count": 11,
   "id": "cd460fd1",
   "metadata": {
    "scrolled": true
   },
   "outputs": [
    {
     "data": {
      "text/html": [
       "<div>\n",
       "<style scoped>\n",
       "    .dataframe tbody tr th:only-of-type {\n",
       "        vertical-align: middle;\n",
       "    }\n",
       "\n",
       "    .dataframe tbody tr th {\n",
       "        vertical-align: top;\n",
       "    }\n",
       "\n",
       "    .dataframe thead th {\n",
       "        text-align: right;\n",
       "    }\n",
       "</style>\n",
       "<table border=\"1\" class=\"dataframe\">\n",
       "  <thead>\n",
       "    <tr style=\"text-align: right;\">\n",
       "      <th></th>\n",
       "      <th>Row ID</th>\n",
       "      <th>Postal Code</th>\n",
       "      <th>Sales</th>\n",
       "      <th>Quantity</th>\n",
       "      <th>Discount</th>\n",
       "      <th>Profit</th>\n",
       "      <th>Shipping Cost</th>\n",
       "    </tr>\n",
       "  </thead>\n",
       "  <tbody>\n",
       "    <tr>\n",
       "      <th>count</th>\n",
       "      <td>51290.00000</td>\n",
       "      <td>9994.000000</td>\n",
       "      <td>51290.000000</td>\n",
       "      <td>51290.000000</td>\n",
       "      <td>51290.000000</td>\n",
       "      <td>51290.000000</td>\n",
       "      <td>51290.000000</td>\n",
       "    </tr>\n",
       "    <tr>\n",
       "      <th>mean</th>\n",
       "      <td>25645.50000</td>\n",
       "      <td>55190.379428</td>\n",
       "      <td>246.490581</td>\n",
       "      <td>3.476545</td>\n",
       "      <td>0.142908</td>\n",
       "      <td>28.610982</td>\n",
       "      <td>26.375915</td>\n",
       "    </tr>\n",
       "    <tr>\n",
       "      <th>std</th>\n",
       "      <td>14806.29199</td>\n",
       "      <td>32063.693350</td>\n",
       "      <td>487.565361</td>\n",
       "      <td>2.278766</td>\n",
       "      <td>0.212280</td>\n",
       "      <td>174.340972</td>\n",
       "      <td>57.296804</td>\n",
       "    </tr>\n",
       "    <tr>\n",
       "      <th>min</th>\n",
       "      <td>1.00000</td>\n",
       "      <td>1040.000000</td>\n",
       "      <td>0.444000</td>\n",
       "      <td>1.000000</td>\n",
       "      <td>0.000000</td>\n",
       "      <td>-6599.978000</td>\n",
       "      <td>0.000000</td>\n",
       "    </tr>\n",
       "    <tr>\n",
       "      <th>25%</th>\n",
       "      <td>12823.25000</td>\n",
       "      <td>23223.000000</td>\n",
       "      <td>30.758625</td>\n",
       "      <td>2.000000</td>\n",
       "      <td>0.000000</td>\n",
       "      <td>0.000000</td>\n",
       "      <td>2.610000</td>\n",
       "    </tr>\n",
       "    <tr>\n",
       "      <th>50%</th>\n",
       "      <td>25645.50000</td>\n",
       "      <td>56430.500000</td>\n",
       "      <td>85.053000</td>\n",
       "      <td>3.000000</td>\n",
       "      <td>0.000000</td>\n",
       "      <td>9.240000</td>\n",
       "      <td>7.790000</td>\n",
       "    </tr>\n",
       "    <tr>\n",
       "      <th>75%</th>\n",
       "      <td>38467.75000</td>\n",
       "      <td>90008.000000</td>\n",
       "      <td>251.053200</td>\n",
       "      <td>5.000000</td>\n",
       "      <td>0.200000</td>\n",
       "      <td>36.810000</td>\n",
       "      <td>24.450000</td>\n",
       "    </tr>\n",
       "    <tr>\n",
       "      <th>max</th>\n",
       "      <td>51290.00000</td>\n",
       "      <td>99301.000000</td>\n",
       "      <td>22638.480000</td>\n",
       "      <td>14.000000</td>\n",
       "      <td>0.850000</td>\n",
       "      <td>8399.976000</td>\n",
       "      <td>933.570000</td>\n",
       "    </tr>\n",
       "  </tbody>\n",
       "</table>\n",
       "</div>"
      ],
      "text/plain": [
       "            Row ID   Postal Code         Sales      Quantity      Discount  \\\n",
       "count  51290.00000   9994.000000  51290.000000  51290.000000  51290.000000   \n",
       "mean   25645.50000  55190.379428    246.490581      3.476545      0.142908   \n",
       "std    14806.29199  32063.693350    487.565361      2.278766      0.212280   \n",
       "min        1.00000   1040.000000      0.444000      1.000000      0.000000   \n",
       "25%    12823.25000  23223.000000     30.758625      2.000000      0.000000   \n",
       "50%    25645.50000  56430.500000     85.053000      3.000000      0.000000   \n",
       "75%    38467.75000  90008.000000    251.053200      5.000000      0.200000   \n",
       "max    51290.00000  99301.000000  22638.480000     14.000000      0.850000   \n",
       "\n",
       "             Profit  Shipping Cost  \n",
       "count  51290.000000   51290.000000  \n",
       "mean      28.610982      26.375915  \n",
       "std      174.340972      57.296804  \n",
       "min    -6599.978000       0.000000  \n",
       "25%        0.000000       2.610000  \n",
       "50%        9.240000       7.790000  \n",
       "75%       36.810000      24.450000  \n",
       "max     8399.976000     933.570000  "
      ]
     },
     "execution_count": 11,
     "metadata": {},
     "output_type": "execute_result"
    }
   ],
   "source": [
    "super_store.describe()"
   ]
  },
  {
   "cell_type": "code",
   "execution_count": 12,
   "id": "ff07e991",
   "metadata": {},
   "outputs": [
    {
     "data": {
      "text/html": [
       "<div>\n",
       "<style scoped>\n",
       "    .dataframe tbody tr th:only-of-type {\n",
       "        vertical-align: middle;\n",
       "    }\n",
       "\n",
       "    .dataframe tbody tr th {\n",
       "        vertical-align: top;\n",
       "    }\n",
       "\n",
       "    .dataframe thead th {\n",
       "        text-align: right;\n",
       "    }\n",
       "</style>\n",
       "<table border=\"1\" class=\"dataframe\">\n",
       "  <thead>\n",
       "    <tr style=\"text-align: right;\">\n",
       "      <th></th>\n",
       "      <th>Row ID</th>\n",
       "      <th>Postal Code</th>\n",
       "      <th>Sales</th>\n",
       "      <th>Quantity</th>\n",
       "      <th>Discount</th>\n",
       "      <th>Profit</th>\n",
       "      <th>Shipping Cost</th>\n",
       "    </tr>\n",
       "  </thead>\n",
       "  <tbody>\n",
       "    <tr>\n",
       "      <th>count</th>\n",
       "      <td>51290.000</td>\n",
       "      <td>9994.000</td>\n",
       "      <td>51290.000</td>\n",
       "      <td>51290.000</td>\n",
       "      <td>51290.000</td>\n",
       "      <td>51290.000</td>\n",
       "      <td>51290.000</td>\n",
       "    </tr>\n",
       "    <tr>\n",
       "      <th>mean</th>\n",
       "      <td>25645.500</td>\n",
       "      <td>55190.379</td>\n",
       "      <td>246.491</td>\n",
       "      <td>3.477</td>\n",
       "      <td>0.143</td>\n",
       "      <td>28.611</td>\n",
       "      <td>26.376</td>\n",
       "    </tr>\n",
       "    <tr>\n",
       "      <th>std</th>\n",
       "      <td>14806.292</td>\n",
       "      <td>32063.693</td>\n",
       "      <td>487.565</td>\n",
       "      <td>2.279</td>\n",
       "      <td>0.212</td>\n",
       "      <td>174.341</td>\n",
       "      <td>57.297</td>\n",
       "    </tr>\n",
       "    <tr>\n",
       "      <th>min</th>\n",
       "      <td>1.000</td>\n",
       "      <td>1040.000</td>\n",
       "      <td>0.444</td>\n",
       "      <td>1.000</td>\n",
       "      <td>0.000</td>\n",
       "      <td>-6599.978</td>\n",
       "      <td>0.000</td>\n",
       "    </tr>\n",
       "    <tr>\n",
       "      <th>25%</th>\n",
       "      <td>12823.250</td>\n",
       "      <td>23223.000</td>\n",
       "      <td>30.759</td>\n",
       "      <td>2.000</td>\n",
       "      <td>0.000</td>\n",
       "      <td>0.000</td>\n",
       "      <td>2.610</td>\n",
       "    </tr>\n",
       "    <tr>\n",
       "      <th>50%</th>\n",
       "      <td>25645.500</td>\n",
       "      <td>56430.500</td>\n",
       "      <td>85.053</td>\n",
       "      <td>3.000</td>\n",
       "      <td>0.000</td>\n",
       "      <td>9.240</td>\n",
       "      <td>7.790</td>\n",
       "    </tr>\n",
       "    <tr>\n",
       "      <th>75%</th>\n",
       "      <td>38467.750</td>\n",
       "      <td>90008.000</td>\n",
       "      <td>251.053</td>\n",
       "      <td>5.000</td>\n",
       "      <td>0.200</td>\n",
       "      <td>36.810</td>\n",
       "      <td>24.450</td>\n",
       "    </tr>\n",
       "    <tr>\n",
       "      <th>max</th>\n",
       "      <td>51290.000</td>\n",
       "      <td>99301.000</td>\n",
       "      <td>22638.480</td>\n",
       "      <td>14.000</td>\n",
       "      <td>0.850</td>\n",
       "      <td>8399.976</td>\n",
       "      <td>933.570</td>\n",
       "    </tr>\n",
       "  </tbody>\n",
       "</table>\n",
       "</div>"
      ],
      "text/plain": [
       "          Row ID  Postal Code      Sales   Quantity   Discount     Profit  \\\n",
       "count  51290.000     9994.000  51290.000  51290.000  51290.000  51290.000   \n",
       "mean   25645.500    55190.379    246.491      3.477      0.143     28.611   \n",
       "std    14806.292    32063.693    487.565      2.279      0.212    174.341   \n",
       "min        1.000     1040.000      0.444      1.000      0.000  -6599.978   \n",
       "25%    12823.250    23223.000     30.759      2.000      0.000      0.000   \n",
       "50%    25645.500    56430.500     85.053      3.000      0.000      9.240   \n",
       "75%    38467.750    90008.000    251.053      5.000      0.200     36.810   \n",
       "max    51290.000    99301.000  22638.480     14.000      0.850   8399.976   \n",
       "\n",
       "       Shipping Cost  \n",
       "count      51290.000  \n",
       "mean          26.376  \n",
       "std           57.297  \n",
       "min            0.000  \n",
       "25%            2.610  \n",
       "50%            7.790  \n",
       "75%           24.450  \n",
       "max          933.570  "
      ]
     },
     "execution_count": 12,
     "metadata": {},
     "output_type": "execute_result"
    }
   ],
   "source": [
    "round(super_store.describe(),3)"
   ]
  },
  {
   "cell_type": "code",
   "execution_count": 13,
   "id": "8c6bf72c",
   "metadata": {},
   "outputs": [
    {
     "data": {
      "text/html": [
       "<div>\n",
       "<style scoped>\n",
       "    .dataframe tbody tr th:only-of-type {\n",
       "        vertical-align: middle;\n",
       "    }\n",
       "\n",
       "    .dataframe tbody tr th {\n",
       "        vertical-align: top;\n",
       "    }\n",
       "\n",
       "    .dataframe thead th {\n",
       "        text-align: right;\n",
       "    }\n",
       "</style>\n",
       "<table border=\"1\" class=\"dataframe\">\n",
       "  <thead>\n",
       "    <tr style=\"text-align: right;\">\n",
       "      <th></th>\n",
       "      <th>Order ID</th>\n",
       "      <th>Order Date</th>\n",
       "      <th>Ship Date</th>\n",
       "      <th>Ship Mode</th>\n",
       "      <th>Customer ID</th>\n",
       "      <th>Customer Name</th>\n",
       "      <th>Segment</th>\n",
       "      <th>City</th>\n",
       "      <th>State</th>\n",
       "      <th>Country</th>\n",
       "      <th>Market</th>\n",
       "      <th>Region</th>\n",
       "      <th>Product ID</th>\n",
       "      <th>Category</th>\n",
       "      <th>Sub-Category</th>\n",
       "      <th>Product Name</th>\n",
       "      <th>Order Priority</th>\n",
       "    </tr>\n",
       "  </thead>\n",
       "  <tbody>\n",
       "    <tr>\n",
       "      <th>count</th>\n",
       "      <td>51290</td>\n",
       "      <td>51290</td>\n",
       "      <td>51290</td>\n",
       "      <td>51290</td>\n",
       "      <td>51290</td>\n",
       "      <td>51290</td>\n",
       "      <td>51290</td>\n",
       "      <td>51290</td>\n",
       "      <td>51290</td>\n",
       "      <td>51290</td>\n",
       "      <td>51290</td>\n",
       "      <td>51290</td>\n",
       "      <td>51290</td>\n",
       "      <td>51290</td>\n",
       "      <td>51290</td>\n",
       "      <td>51290</td>\n",
       "      <td>51290</td>\n",
       "    </tr>\n",
       "    <tr>\n",
       "      <th>unique</th>\n",
       "      <td>25035</td>\n",
       "      <td>1430</td>\n",
       "      <td>1464</td>\n",
       "      <td>4</td>\n",
       "      <td>1590</td>\n",
       "      <td>795</td>\n",
       "      <td>3</td>\n",
       "      <td>3636</td>\n",
       "      <td>1094</td>\n",
       "      <td>147</td>\n",
       "      <td>7</td>\n",
       "      <td>13</td>\n",
       "      <td>10292</td>\n",
       "      <td>3</td>\n",
       "      <td>17</td>\n",
       "      <td>3788</td>\n",
       "      <td>4</td>\n",
       "    </tr>\n",
       "    <tr>\n",
       "      <th>top</th>\n",
       "      <td>CA-2014-100111</td>\n",
       "      <td>18-06-2014</td>\n",
       "      <td>22-11-2014</td>\n",
       "      <td>Standard Class</td>\n",
       "      <td>PO-18850</td>\n",
       "      <td>Muhammed Yedwab</td>\n",
       "      <td>Consumer</td>\n",
       "      <td>New York City</td>\n",
       "      <td>California</td>\n",
       "      <td>United States</td>\n",
       "      <td>APAC</td>\n",
       "      <td>Central</td>\n",
       "      <td>OFF-AR-10003651</td>\n",
       "      <td>Office Supplies</td>\n",
       "      <td>Binders</td>\n",
       "      <td>Staples</td>\n",
       "      <td>Medium</td>\n",
       "    </tr>\n",
       "    <tr>\n",
       "      <th>freq</th>\n",
       "      <td>14</td>\n",
       "      <td>135</td>\n",
       "      <td>130</td>\n",
       "      <td>30775</td>\n",
       "      <td>97</td>\n",
       "      <td>108</td>\n",
       "      <td>26518</td>\n",
       "      <td>915</td>\n",
       "      <td>2001</td>\n",
       "      <td>9994</td>\n",
       "      <td>11002</td>\n",
       "      <td>11117</td>\n",
       "      <td>35</td>\n",
       "      <td>31273</td>\n",
       "      <td>6152</td>\n",
       "      <td>227</td>\n",
       "      <td>29433</td>\n",
       "    </tr>\n",
       "  </tbody>\n",
       "</table>\n",
       "</div>"
      ],
      "text/plain": [
       "              Order ID  Order Date   Ship Date       Ship Mode Customer ID  \\\n",
       "count            51290       51290       51290           51290       51290   \n",
       "unique           25035        1430        1464               4        1590   \n",
       "top     CA-2014-100111  18-06-2014  22-11-2014  Standard Class    PO-18850   \n",
       "freq                14         135         130           30775          97   \n",
       "\n",
       "          Customer Name   Segment           City       State        Country  \\\n",
       "count             51290     51290          51290       51290          51290   \n",
       "unique              795         3           3636        1094            147   \n",
       "top     Muhammed Yedwab  Consumer  New York City  California  United States   \n",
       "freq                108     26518            915        2001           9994   \n",
       "\n",
       "       Market   Region       Product ID         Category Sub-Category  \\\n",
       "count   51290    51290            51290            51290        51290   \n",
       "unique      7       13            10292                3           17   \n",
       "top      APAC  Central  OFF-AR-10003651  Office Supplies      Binders   \n",
       "freq    11002    11117               35            31273         6152   \n",
       "\n",
       "       Product Name Order Priority  \n",
       "count         51290          51290  \n",
       "unique         3788              4  \n",
       "top         Staples         Medium  \n",
       "freq            227          29433  "
      ]
     },
     "execution_count": 13,
     "metadata": {},
     "output_type": "execute_result"
    }
   ],
   "source": [
    "super_store.describe(include=\"object\")"
   ]
  },
  {
   "cell_type": "code",
   "execution_count": 14,
   "id": "f45acb40",
   "metadata": {},
   "outputs": [
    {
     "data": {
      "text/plain": [
       "Index(['Row ID', 'Order ID', 'Order Date', 'Ship Date', 'Ship Mode',\n",
       "       'Customer ID', 'Customer Name', 'Segment', 'City', 'State', 'Country',\n",
       "       'Postal Code', 'Market', 'Region', 'Product ID', 'Category',\n",
       "       'Sub-Category', 'Product Name', 'Sales', 'Quantity', 'Discount',\n",
       "       'Profit', 'Shipping Cost', 'Order Priority'],\n",
       "      dtype='object')"
      ]
     },
     "execution_count": 14,
     "metadata": {},
     "output_type": "execute_result"
    }
   ],
   "source": [
    "super_store.columns"
   ]
  },
  {
   "cell_type": "code",
   "execution_count": 15,
   "id": "f78a57f5",
   "metadata": {
    "scrolled": false
   },
   "outputs": [
    {
     "name": "stdout",
     "output_type": "stream",
     "text": [
      "Row ID\n",
      "Order ID\n",
      "Order Date\n",
      "Ship Date\n",
      "Ship Mode\n",
      "Customer ID\n",
      "Customer Name\n",
      "Segment\n",
      "City\n",
      "State\n",
      "Country\n",
      "Postal Code\n",
      "Market\n",
      "Region\n",
      "Product ID\n",
      "Category\n",
      "Sub-Category\n",
      "Product Name\n",
      "Sales\n",
      "Quantity\n",
      "Discount\n",
      "Profit\n",
      "Shipping Cost\n",
      "Order Priority\n"
     ]
    }
   ],
   "source": [
    "for col in super_store.columns:\n",
    "    print(col)"
   ]
  },
  {
   "cell_type": "markdown",
   "id": "abf1b626",
   "metadata": {},
   "source": [
    "**Data Analysis**"
   ]
  },
  {
   "cell_type": "code",
   "execution_count": 86,
   "id": "181c7d9e",
   "metadata": {},
   "outputs": [],
   "source": [
    "segment_sales = super_store.groupby(\"Segment\")[\"Sales\"].sum()"
   ]
  },
  {
   "cell_type": "code",
   "execution_count": 87,
   "id": "8a301fe7",
   "metadata": {},
   "outputs": [
    {
     "data": {
      "text/plain": [
       "Segment\n",
       "Consumer       6.507949e+07\n",
       "Corporate      3.824698e+07\n",
       "Home Office    2.309855e+07\n",
       "Name: Sales, dtype: float64"
      ]
     },
     "execution_count": 87,
     "metadata": {},
     "output_type": "execute_result"
    }
   ],
   "source": [
    "segment_sales"
   ]
  },
  {
   "cell_type": "code",
   "execution_count": 20,
   "id": "a38fb111",
   "metadata": {},
   "outputs": [
    {
     "data": {
      "image/png": "[encoded data removed]",
      "text/plain": [
       "<Figure size 432x288 with 1 Axes>"
      ]
     },
     "metadata": {
      "needs_background": "light"
     },
     "output_type": "display_data"
    }
   ],
   "source": [
    "segment_sales = pd.DataFrame({'Segment': segment_sales.index, 'Sales': segment_sales.values})\n",
    "\n",
    "# Plot a bar chart using the plot.bar() method of the DataFrame\n",
    "segment_sales.plot.bar(x='Segment', y='Sales', rot=0)\n",
    "\n",
    "\n",
    "# Set the axis labels and title\n",
    "plt.xlabel(\"Segment\")\n",
    "plt.ylabel(\"Sales\")\n",
    "plt.title(\"Sales by Segment\")\n",
    "\n",
    "ax = plt.gca()\n",
    "\n",
    "# set the y-axis tick label format to plain\n",
    "ax.ticklabel_format(style='plain', axis='y')\n",
    "\n",
    "# Show the plot\n",
    "plt.show()"
   ]
  },
  {
   "cell_type": "code",
   "execution_count": 22,
   "id": "9a7d5bac",
   "metadata": {},
   "outputs": [],
   "source": [
    "country_profit = super_store.groupby(\"Country\")[\"Profit\"].sum()"
   ]
  },
  {
   "cell_type": "code",
   "execution_count": 23,
   "id": "0262475e",
   "metadata": {
    "scrolled": true
   },
   "outputs": [
    {
     "data": {
      "text/plain": [
       "Country\n",
       "Afghanistan     5460.30000\n",
       "Albania          709.32000\n",
       "Algeria         9106.50000\n",
       "Angola          6494.97000\n",
       "Argentina     -18693.79672\n",
       "                  ...     \n",
       "Venezuela     -11222.71044\n",
       "Vietnam        -1870.23060\n",
       "Yemen          -3706.45800\n",
       "Zambia          7001.73000\n",
       "Zimbabwe       -5428.78500\n",
       "Name: Profit, Length: 147, dtype: float64"
      ]
     },
     "execution_count": 23,
     "metadata": {},
     "output_type": "execute_result"
    }
   ],
   "source": [
    "country_profit"
   ]
  },
  {
   "cell_type": "code",
   "execution_count": 56,
   "id": "708aab11",
   "metadata": {},
   "outputs": [],
   "source": [
    "df = pd.DataFrame(super_store)"
   ]
  },
  {
   "cell_type": "code",
   "execution_count": 57,
   "id": "9ba26f70",
   "metadata": {},
   "outputs": [],
   "source": [
    "top_10_profitable_countries = df.groupby('Country')['Profit'].sum().nlargest(10)"
   ]
  },
  {
   "cell_type": "code",
   "execution_count": 58,
   "id": "f2db6033",
   "metadata": {},
   "outputs": [
    {
     "data": {
      "text/plain": [
       "Country\n",
       "United States     286397.02170\n",
       "China             150683.08500\n",
       "India             129071.83500\n",
       "United Kingdom    111900.15000\n",
       "France            109029.00300\n",
       "Germany           107322.82050\n",
       "Australia         103907.43300\n",
       "Mexico            102818.09752\n",
       "Spain              54390.12000\n",
       "El Salvador        42023.24320\n",
       "Name: Profit, dtype: float64"
      ]
     },
     "execution_count": 58,
     "metadata": {},
     "output_type": "execute_result"
    }
   ],
   "source": [
    "top_10_profitable_countries"
   ]
  },
  {
   "cell_type": "code",
   "execution_count": 1,
   "id": "2cc48586",
   "metadata": {
    "scrolled": true
   },
   "outputs": [
    {
     "ename": "NameError",
     "evalue": "name 'pd' is not defined",
     "output_type": "error",
     "traceback": [
      "\u001b[1;31m---------------------------------------------------------------------------\u001b[0m",
      "\u001b[1;31mNameError\u001b[0m                                 Traceback (most recent call last)",
      "\u001b[1;32m~\\AppData\\Local\\Temp\\ipykernel_12552\\4129581136.py\u001b[0m in \u001b[0;36m<module>\u001b[1;34m\u001b[0m\n\u001b[1;32m----> 1\u001b[1;33m \u001b[0mtop_10_profitable_countries\u001b[0m \u001b[1;33m=\u001b[0m \u001b[0mpd\u001b[0m\u001b[1;33m.\u001b[0m\u001b[0mDataFrame\u001b[0m\u001b[1;33m(\u001b[0m\u001b[1;33m{\u001b[0m\u001b[1;34m'Country'\u001b[0m\u001b[1;33m:\u001b[0m \u001b[0mtop_10_profitable_countries\u001b[0m\u001b[1;33m.\u001b[0m\u001b[0mindex\u001b[0m\u001b[1;33m,\u001b[0m \u001b[1;34m'Profit'\u001b[0m\u001b[1;33m:\u001b[0m \u001b[0mtop_10_profitable_countries\u001b[0m\u001b[1;33m}\u001b[0m\u001b[1;33m)\u001b[0m\u001b[1;33m\u001b[0m\u001b[1;33m\u001b[0m\u001b[0m\n\u001b[0m\u001b[0;32m      2\u001b[0m \u001b[1;33m\u001b[0m\u001b[0m\n\u001b[0;32m      3\u001b[0m \u001b[1;31m# Plot a bar chart using the plot.bar() method of the DataFrame\u001b[0m\u001b[1;33m\u001b[0m\u001b[1;33m\u001b[0m\u001b[0m\n\u001b[0;32m      4\u001b[0m \u001b[0mtop_10_profitable_countries\u001b[0m\u001b[1;33m.\u001b[0m\u001b[0mplot\u001b[0m\u001b[1;33m.\u001b[0m\u001b[0mbar\u001b[0m\u001b[1;33m(\u001b[0m\u001b[0mx\u001b[0m\u001b[1;33m=\u001b[0m\u001b[1;34m'Country'\u001b[0m\u001b[1;33m,\u001b[0m \u001b[0my\u001b[0m\u001b[1;33m=\u001b[0m\u001b[1;34m'Profit'\u001b[0m\u001b[1;33m,\u001b[0m \u001b[0mrot\u001b[0m\u001b[1;33m=\u001b[0m\u001b[1;36m90\u001b[0m\u001b[1;33m)\u001b[0m\u001b[1;33m\u001b[0m\u001b[1;33m\u001b[0m\u001b[0m\n\u001b[0;32m      5\u001b[0m \u001b[1;33m\u001b[0m\u001b[0m\n",
      "\u001b[1;31mNameError\u001b[0m: name 'pd' is not defined"
     ]
    }
   ],
   "source": [
    "top_10_profitable_countries = pd.DataFrame({'Country': top_10_profitable_countries.index, 'Profit': top_10_profitable_countries})\n",
    "\n",
    "# Plot a bar chart using the plot.bar() method of the DataFrame\n",
    "top_10_profitable_countries.plot.bar(x='Country', y='Profit', rot=90)\n",
    "\n",
    "\n",
    "# Set the axis labels and title\n",
    "plt.xlabel(\"Country\")\n",
    "plt.ylabel(\"Profit\")\n",
    "plt.title(\"Country by Profit\")\n",
    "plt.grid(True)\n",
    "\n",
    "ax = plt.gca()\n",
    "\n",
    "# set the y-axis tick label format to plain\n",
    "ax.ticklabel_format(style='plain', axis='y')\n",
    "\n",
    "# Show the plot\n",
    "plt.show()"
   ]
  },
  {
   "cell_type": "code",
   "execution_count": null,
   "id": "2334854b",
   "metadata": {},
   "outputs": [],
   "source": [
    "country_profit_sorted = country_sales.sort_values(ascending=False)"
   ]
  },
  {
   "cell_type": "code",
   "execution_count": null,
   "id": "b70ada93",
   "metadata": {},
   "outputs": [],
   "source": [
    "country_profit_sorted"
   ]
  },
  {
   "cell_type": "code",
   "execution_count": null,
   "id": "d9d6c5ee",
   "metadata": {},
   "outputs": [],
   "source": [
    "country_segment_profit = super_store.groupby([\"Country\", \"Segment\"])[\"Profit\"].sum()\n"
   ]
  },
  {
   "cell_type": "code",
   "execution_count": 42,
   "id": "2bcfcd62",
   "metadata": {
    "scrolled": true
   },
   "outputs": [
    {
     "data": {
      "text/plain": [
       "Country      Segment    \n",
       "Afghanistan  Consumer        791.850\n",
       "             Corporate      3612.270\n",
       "             Home Office    1056.180\n",
       "Albania      Consumer        330.420\n",
       "             Corporate       356.820\n",
       "                              ...   \n",
       "Zambia       Corporate      1197.840\n",
       "             Home Office    2172.240\n",
       "Zimbabwe     Consumer      -1659.354\n",
       "             Corporate     -1850.379\n",
       "             Home Office   -1919.052\n",
       "Name: Profit, Length: 408, dtype: float64"
      ]
     },
     "execution_count": 42,
     "metadata": {},
     "output_type": "execute_result"
    }
   ],
   "source": [
    "country_segment_profit"
   ]
  },
  {
   "cell_type": "code",
   "execution_count": 43,
   "id": "caf213d7",
   "metadata": {},
   "outputs": [],
   "source": [
    "profitable_countries_segment = df.groupby(['Country','Segment'])['Profit'].sum().nlargest(10)"
   ]
  },
  {
   "cell_type": "code",
   "execution_count": 44,
   "id": "7bc9e3c2",
   "metadata": {
    "scrolled": true
   },
   "outputs": [
    {
     "data": {
      "text/plain": [
       "Country         Segment    \n",
       "United States   Consumer       134119.20920\n",
       "                Corporate       91979.13400\n",
       "China           Consumer        76396.77900\n",
       "Germany         Consumer        67034.49300\n",
       "India           Consumer        66816.19500\n",
       "United States   Home Office     60298.67850\n",
       "Australia       Consumer        57037.16700\n",
       "Mexico          Consumer        54960.56352\n",
       "United Kingdom  Consumer        54855.01500\n",
       "France          Consumer        50318.36850\n",
       "Name: Profit, dtype: float64"
      ]
     },
     "execution_count": 44,
     "metadata": {},
     "output_type": "execute_result"
    }
   ],
   "source": [
    "profitable_countries_segment"
   ]
  },
  {
   "cell_type": "code",
   "execution_count": 45,
   "id": "04078c9e",
   "metadata": {},
   "outputs": [],
   "source": [
    "segment_profit = super_store.groupby(\"Segment\")[\"Profit\"].mean()"
   ]
  },
  {
   "cell_type": "code",
   "execution_count": 46,
   "id": "29af9590",
   "metadata": {
    "scrolled": true
   },
   "outputs": [
    {
     "data": {
      "text/plain": [
       "Segment\n",
       "Consumer       28.254008\n",
       "Corporate      28.596042\n",
       "Home Office    29.648847\n",
       "Name: Profit, dtype: float64"
      ]
     },
     "execution_count": 46,
     "metadata": {},
     "output_type": "execute_result"
    }
   ],
   "source": [
    "segment_profit"
   ]
  },
  {
   "cell_type": "code",
   "execution_count": 47,
   "id": "dc89042b",
   "metadata": {},
   "outputs": [],
   "source": [
    "x = super_store.Year\n",
    "y = super_store.Profit\n",
    "z = super_store.Discount"
   ]
  },
  {
   "cell_type": "code",
   "execution_count": 48,
   "id": "0840f2a1",
   "metadata": {},
   "outputs": [
    {
     "data": {
      "image/png": "[encoded data removed]",
      "text/plain": [
       "<Figure size 432x288 with 1 Axes>"
      ]
     },
     "metadata": {
      "needs_background": "light"
     },
     "output_type": "display_data"
    }
   ],
   "source": [
    "df_yearly = df.groupby(df['Year'])[['Profit']].sum()\n",
    "\n",
    "# Plot line chart\n",
    "plt.plot(df_yearly.index, df_yearly['Profit'], label='Profit')\n",
    "\n",
    "# Add labels and title\n",
    "plt.xlabel('Year')\n",
    "plt.ylabel('Amount')\n",
    "plt.title('Profit by Order Year')\n",
    "\n",
    "# Add legend\n",
    "plt.legend()\n",
    "\n",
    "# Show plot\n",
    "plt.show()"
   ]
  },
  {
   "cell_type": "code",
   "execution_count": 53,
   "id": "0d84e47b",
   "metadata": {},
   "outputs": [],
   "source": [
    "df = pd.DataFrame(super_store)"
   ]
  },
  {
   "cell_type": "code",
   "execution_count": 50,
   "id": "09abbe7a",
   "metadata": {},
   "outputs": [],
   "source": [
    "for i in range(len(df)):\n",
    "    date_string = df.loc[i, 'Order Date']\n",
    "    year = date_string[-4:]  \n",
    "    df.loc[i, 'Year'] = year"
   ]
  },
  {
   "cell_type": "code",
   "execution_count": 81,
   "id": "2290d236",
   "metadata": {},
   "outputs": [],
   "source": [
    "category_profit = super_store.groupby(\"Category\")[\"Profit\"].sum()"
   ]
  },
  {
   "cell_type": "code",
   "execution_count": 82,
   "id": "a92bd911",
   "metadata": {},
   "outputs": [
    {
     "data": {
      "text/plain": [
       "Category\n",
       "Furniture          285204.72380\n",
       "Office Supplies    518473.83430\n",
       "Technology         663778.73318\n",
       "Name: Profit, dtype: float64"
      ]
     },
     "execution_count": 82,
     "metadata": {},
     "output_type": "execute_result"
    }
   ],
   "source": [
    "category_profit"
   ]
  },
  {
   "cell_type": "code",
   "execution_count": 83,
   "id": "6a8815a8",
   "metadata": {},
   "outputs": [],
   "source": [
    "df = pd.DataFrame(super_store)"
   ]
  },
  {
   "cell_type": "code",
   "execution_count": 85,
   "id": "1547150c",
   "metadata": {
    "scrolled": true
   },
   "outputs": [
    {
     "data": {
      "image/png": "[encoded data removed]",
      "text/plain": [
       "<Figure size 432x288 with 1 Axes>"
      ]
     },
     "metadata": {},
     "output_type": "display_data"
    }
   ],
   "source": [
    "category_profit = pd.DataFrame({'Category': category_profit.index, 'Profit': category_profit.values})\n",
    "\n",
    "plt.pie(category_profit['Profit'], labels=category_profit['Category'], autopct='%1.1f%%')\n",
    "\n",
    "# Add a title\n",
    "plt.title('Profit by Category')\n",
    "\n",
    "# Show the plot\n",
    "plt.show()"
   ]
  },
  {
   "cell_type": "code",
   "execution_count": 16,
   "id": "56a5e895",
   "metadata": {},
   "outputs": [],
   "source": [
    "df = pd.DataFrame(super_store)"
   ]
  },
  {
   "cell_type": "code",
   "execution_count": 20,
   "id": "64a02e6c",
   "metadata": {},
   "outputs": [],
   "source": [
    "# Filter the dataframe for each category and group by product name to get the top 5 sales\n",
    "top_tech_sales = df[df['Category'] == 'Technology'].groupby('Product Name')['Sales'].sum().nlargest(5)\n",
    "top_furniture_sales = df[df['Category'] == 'Furniture'].groupby('Product Name')['Sales'].sum().nlargest(5)\n",
    "top_office_sales = df[df['Category'] == 'Office Supplies'].groupby('Product Name')['Sales'].sum().nlargest(5)"
   ]
  },
  {
   "cell_type": "code",
   "execution_count": 21,
   "id": "b4585e92",
   "metadata": {},
   "outputs": [
    {
     "data": {
      "text/plain": [
       "Product Name\n",
       "Apple Smart Phone, Full Size             86935.7786\n",
       "Cisco Smart Phone, Full Size             76441.5306\n",
       "Motorola Smart Phone, Full Size          73156.3030\n",
       "Nokia Smart Phone, Full Size             71904.5555\n",
       "Canon imageCLASS 2200 Advanced Copier    61599.8240\n",
       "Name: Sales, dtype: float64"
      ]
     },
     "execution_count": 21,
     "metadata": {},
     "output_type": "execute_result"
    }
   ],
   "source": [
    "top_tech_sales"
   ]
  },
  {
   "cell_type": "code",
   "execution_count": 22,
   "id": "dc0a214a",
   "metadata": {},
   "outputs": [
    {
     "data": {
      "text/plain": [
       "Product Name\n",
       "Hon Executive Leather Armchair, Adjustable                  58193.4841\n",
       "Office Star Executive Leather Armchair, Adjustable          50661.6840\n",
       "Harbour Creations Executive Leather Armchair, Adjustable    50121.5160\n",
       "SAFCO Executive Leather Armchair, Black                     41923.5300\n",
       "Novimex Executive Leather Armchair, Adjustable              40585.1336\n",
       "Name: Sales, dtype: float64"
      ]
     },
     "execution_count": 22,
     "metadata": {},
     "output_type": "execute_result"
    }
   ],
   "source": [
    "top_furniture_sales"
   ]
  },
  {
   "cell_type": "code",
   "execution_count": 23,
   "id": "948fa9f8",
   "metadata": {},
   "outputs": [
    {
     "data": {
      "text/plain": [
       "Product Name\n",
       "Eldon File Cart, Single Width     34387.7287\n",
       "Hoover Stove, White               32842.6043\n",
       "Hoover Stove, Red                 31663.7790\n",
       "Rogers File Cart, Single Width    29466.3053\n",
       "Smead Lockers, Industrial         28991.6640\n",
       "Name: Sales, dtype: float64"
      ]
     },
     "execution_count": 23,
     "metadata": {},
     "output_type": "execute_result"
    }
   ],
   "source": [
    "top_office_sales"
   ]
  },
  {
   "cell_type": "code",
   "execution_count": 30,
   "id": "523ee020",
   "metadata": {},
   "outputs": [
    {
     "data": {
      "image/png": "[encoded data removed]",
      "text/plain": [
       "<Figure size 640x480 with 1 Axes>"
      ]
     },
     "metadata": {},
     "output_type": "display_data"
    }
   ],
   "source": [
    "# Combine the top sales from each category into a single dataframe\n",
    "top_sales_df = pd.concat([top_tech_sales, top_furniture_sales, top_office_sales], axis=1, sort=False)\n",
    "top_sales_df.columns = ['Technology', 'Furniture', 'Office Supplies']\n",
    "\n",
    "# Create the clustered bar chart\n",
    "top_sales_df.plot(kind='bar')\n",
    "plt.title('Top 5 Sales by Product Category')\n",
    "plt.xlabel('Product Name')\n",
    "plt.ylabel('Sales')\n",
    "plt.show()"
   ]
  },
  {
   "cell_type": "code",
   "execution_count": 51,
   "id": "cdb7cce8",
   "metadata": {
    "scrolled": true
   },
   "outputs": [
    {
     "data": {
      "text/html": [
       "<div>\n",
       "<style scoped>\n",
       "    .dataframe tbody tr th:only-of-type {\n",
       "        vertical-align: middle;\n",
       "    }\n",
       "\n",
       "    .dataframe tbody tr th {\n",
       "        vertical-align: top;\n",
       "    }\n",
       "\n",
       "    .dataframe thead th {\n",
       "        text-align: right;\n",
       "    }\n",
       "</style>\n",
       "<table border=\"1\" class=\"dataframe\">\n",
       "  <thead>\n",
       "    <tr style=\"text-align: right;\">\n",
       "      <th></th>\n",
       "      <th>Row ID</th>\n",
       "      <th>Order ID</th>\n",
       "      <th>Order Date</th>\n",
       "      <th>Ship Date</th>\n",
       "      <th>Ship Mode</th>\n",
       "      <th>Customer ID</th>\n",
       "      <th>Customer Name</th>\n",
       "      <th>Segment</th>\n",
       "      <th>City</th>\n",
       "      <th>State</th>\n",
       "      <th>Country</th>\n",
       "      <th>Postal Code</th>\n",
       "      <th>Market</th>\n",
       "      <th>Region</th>\n",
       "      <th>Product ID</th>\n",
       "      <th>Category</th>\n",
       "      <th>Sub-Category</th>\n",
       "      <th>Product Name</th>\n",
       "      <th>Sales</th>\n",
       "      <th>Quantity</th>\n",
       "      <th>Discount</th>\n",
       "      <th>Profit</th>\n",
       "      <th>Shipping Cost</th>\n",
       "      <th>Order Priority</th>\n",
       "      <th>Year</th>\n",
       "    </tr>\n",
       "  </thead>\n",
       "  <tbody>\n",
       "    <tr>\n",
       "      <th>0</th>\n",
       "      <td>42433</td>\n",
       "      <td>AG-2011-2040</td>\n",
       "      <td>1/1/2011</td>\n",
       "      <td>6/1/2011</td>\n",
       "      <td>Standard Class</td>\n",
       "      <td>TB-11280</td>\n",
       "      <td>Toby Braunhardt</td>\n",
       "      <td>Consumer</td>\n",
       "      <td>Constantine</td>\n",
       "      <td>Constantine</td>\n",
       "      <td>Algeria</td>\n",
       "      <td>NaN</td>\n",
       "      <td>Africa</td>\n",
       "      <td>Africa</td>\n",
       "      <td>OFF-TEN-10000025</td>\n",
       "      <td>Office Supplies</td>\n",
       "      <td>Storage</td>\n",
       "      <td>Tenex Lockers, Blue</td>\n",
       "      <td>408.300</td>\n",
       "      <td>2</td>\n",
       "      <td>0.0</td>\n",
       "      <td>106.140</td>\n",
       "      <td>35.46</td>\n",
       "      <td>Medium</td>\n",
       "      <td>2011</td>\n",
       "    </tr>\n",
       "    <tr>\n",
       "      <th>1</th>\n",
       "      <td>22253</td>\n",
       "      <td>IN-2011-47883</td>\n",
       "      <td>1/1/2011</td>\n",
       "      <td>8/1/2011</td>\n",
       "      <td>Standard Class</td>\n",
       "      <td>JH-15985</td>\n",
       "      <td>Joseph Holt</td>\n",
       "      <td>Consumer</td>\n",
       "      <td>Wagga Wagga</td>\n",
       "      <td>New South Wales</td>\n",
       "      <td>Australia</td>\n",
       "      <td>NaN</td>\n",
       "      <td>APAC</td>\n",
       "      <td>Oceania</td>\n",
       "      <td>OFF-SU-10000618</td>\n",
       "      <td>Office Supplies</td>\n",
       "      <td>Supplies</td>\n",
       "      <td>Acme Trimmer, High Speed</td>\n",
       "      <td>120.366</td>\n",
       "      <td>3</td>\n",
       "      <td>0.1</td>\n",
       "      <td>36.036</td>\n",
       "      <td>9.72</td>\n",
       "      <td>Medium</td>\n",
       "      <td>2011</td>\n",
       "    </tr>\n",
       "    <tr>\n",
       "      <th>2</th>\n",
       "      <td>48883</td>\n",
       "      <td>HU-2011-1220</td>\n",
       "      <td>1/1/2011</td>\n",
       "      <td>5/1/2011</td>\n",
       "      <td>Second Class</td>\n",
       "      <td>AT-735</td>\n",
       "      <td>Annie Thurman</td>\n",
       "      <td>Consumer</td>\n",
       "      <td>Budapest</td>\n",
       "      <td>Budapest</td>\n",
       "      <td>Hungary</td>\n",
       "      <td>NaN</td>\n",
       "      <td>EMEA</td>\n",
       "      <td>EMEA</td>\n",
       "      <td>OFF-TEN-10001585</td>\n",
       "      <td>Office Supplies</td>\n",
       "      <td>Storage</td>\n",
       "      <td>Tenex Box, Single Width</td>\n",
       "      <td>66.120</td>\n",
       "      <td>4</td>\n",
       "      <td>0.0</td>\n",
       "      <td>29.640</td>\n",
       "      <td>8.17</td>\n",
       "      <td>High</td>\n",
       "      <td>2011</td>\n",
       "    </tr>\n",
       "    <tr>\n",
       "      <th>3</th>\n",
       "      <td>11731</td>\n",
       "      <td>IT-2011-3647632</td>\n",
       "      <td>1/1/2011</td>\n",
       "      <td>5/1/2011</td>\n",
       "      <td>Second Class</td>\n",
       "      <td>EM-14140</td>\n",
       "      <td>Eugene Moren</td>\n",
       "      <td>Home Office</td>\n",
       "      <td>Stockholm</td>\n",
       "      <td>Stockholm</td>\n",
       "      <td>Sweden</td>\n",
       "      <td>NaN</td>\n",
       "      <td>EU</td>\n",
       "      <td>North</td>\n",
       "      <td>OFF-PA-10001492</td>\n",
       "      <td>Office Supplies</td>\n",
       "      <td>Paper</td>\n",
       "      <td>Enermax Note Cards, Premium</td>\n",
       "      <td>44.865</td>\n",
       "      <td>3</td>\n",
       "      <td>0.5</td>\n",
       "      <td>-26.055</td>\n",
       "      <td>4.82</td>\n",
       "      <td>High</td>\n",
       "      <td>2011</td>\n",
       "    </tr>\n",
       "    <tr>\n",
       "      <th>4</th>\n",
       "      <td>22255</td>\n",
       "      <td>IN-2011-47883</td>\n",
       "      <td>1/1/2011</td>\n",
       "      <td>8/1/2011</td>\n",
       "      <td>Standard Class</td>\n",
       "      <td>JH-15985</td>\n",
       "      <td>Joseph Holt</td>\n",
       "      <td>Consumer</td>\n",
       "      <td>Wagga Wagga</td>\n",
       "      <td>New South Wales</td>\n",
       "      <td>Australia</td>\n",
       "      <td>NaN</td>\n",
       "      <td>APAC</td>\n",
       "      <td>Oceania</td>\n",
       "      <td>FUR-FU-10003447</td>\n",
       "      <td>Furniture</td>\n",
       "      <td>Furnishings</td>\n",
       "      <td>Eldon Light Bulb, Duo Pack</td>\n",
       "      <td>113.670</td>\n",
       "      <td>5</td>\n",
       "      <td>0.1</td>\n",
       "      <td>37.770</td>\n",
       "      <td>4.70</td>\n",
       "      <td>Medium</td>\n",
       "      <td>2011</td>\n",
       "    </tr>\n",
       "  </tbody>\n",
       "</table>\n",
       "</div>"
      ],
      "text/plain": [
       "   Row ID         Order ID Order Date Ship Date       Ship Mode Customer ID  \\\n",
       "0   42433     AG-2011-2040   1/1/2011  6/1/2011  Standard Class    TB-11280   \n",
       "1   22253    IN-2011-47883   1/1/2011  8/1/2011  Standard Class    JH-15985   \n",
       "2   48883     HU-2011-1220   1/1/2011  5/1/2011    Second Class      AT-735   \n",
       "3   11731  IT-2011-3647632   1/1/2011  5/1/2011    Second Class    EM-14140   \n",
       "4   22255    IN-2011-47883   1/1/2011  8/1/2011  Standard Class    JH-15985   \n",
       "\n",
       "     Customer Name      Segment         City            State    Country  \\\n",
       "0  Toby Braunhardt     Consumer  Constantine      Constantine    Algeria   \n",
       "1      Joseph Holt     Consumer  Wagga Wagga  New South Wales  Australia   \n",
       "2    Annie Thurman     Consumer     Budapest         Budapest    Hungary   \n",
       "3     Eugene Moren  Home Office    Stockholm        Stockholm     Sweden   \n",
       "4      Joseph Holt     Consumer  Wagga Wagga  New South Wales  Australia   \n",
       "\n",
       "   Postal Code  Market   Region        Product ID         Category  \\\n",
       "0          NaN  Africa   Africa  OFF-TEN-10000025  Office Supplies   \n",
       "1          NaN    APAC  Oceania   OFF-SU-10000618  Office Supplies   \n",
       "2          NaN    EMEA     EMEA  OFF-TEN-10001585  Office Supplies   \n",
       "3          NaN      EU    North   OFF-PA-10001492  Office Supplies   \n",
       "4          NaN    APAC  Oceania   FUR-FU-10003447        Furniture   \n",
       "\n",
       "  Sub-Category                 Product Name    Sales  Quantity  Discount  \\\n",
       "0      Storage          Tenex Lockers, Blue  408.300         2       0.0   \n",
       "1     Supplies     Acme Trimmer, High Speed  120.366         3       0.1   \n",
       "2      Storage      Tenex Box, Single Width   66.120         4       0.0   \n",
       "3        Paper  Enermax Note Cards, Premium   44.865         3       0.5   \n",
       "4  Furnishings   Eldon Light Bulb, Duo Pack  113.670         5       0.1   \n",
       "\n",
       "    Profit  Shipping Cost Order Priority  Year  \n",
       "0  106.140          35.46         Medium  2011  \n",
       "1   36.036           9.72         Medium  2011  \n",
       "2   29.640           8.17           High  2011  \n",
       "3  -26.055           4.82           High  2011  \n",
       "4   37.770           4.70         Medium  2011  "
      ]
     },
     "execution_count": 51,
     "metadata": {},
     "output_type": "execute_result"
    }
   ],
   "source": [
    "super_store.head()"
   ]
  },
  {
   "cell_type": "code",
   "execution_count": null,
   "id": "280803a5",
   "metadata": {},
   "outputs": [],
   "source": []
  },
  {
   "cell_type": "markdown",
   "id": "d7884fc9",
   "metadata": {},
   "source": [
    "From the analysis it can be observed that USA is the most profitable country followed by China and India. Also from the line chart we can also infer that the profit continued to increase as the years went by, meaning, the order request increased on average for all the product along the years. "
   ]
  },
  {
   "cell_type": "code",
   "execution_count": null,
   "id": "ec4b29da",
   "metadata": {},
   "outputs": [],
   "source": [
    "LOYALTY PROGRAMME\n",
    "Company plans a loyalty program for its top customers, it is therefore necessary to know people who prioritise our products. "
   ]
  },
  {
   "cell_type": "code",
   "execution_count": 38,
   "id": "2a32a503",
   "metadata": {},
   "outputs": [],
   "source": [
    "df = pd.DataFrame(super_store)"
   ]
  },
  {
   "cell_type": "code",
   "execution_count": 104,
   "id": "33210eba",
   "metadata": {},
   "outputs": [],
   "source": [
    "top_10_customers = df.groupby('Customer Name')['Sales'].sum().nlargest(10) "
   ]
  },
  {
   "cell_type": "code",
   "execution_count": 105,
   "id": "9d341d60",
   "metadata": {},
   "outputs": [
    {
     "data": {
      "text/plain": [
       "Customer Name\n",
       "Tom Ashbrook          40488.07080\n",
       "Tamara Chand          37457.33300\n",
       "Greg Tran             35550.95428\n",
       "Christopher Conant    35187.07640\n",
       "Sean Miller           35170.93296\n",
       "Bart Watters          32310.44650\n",
       "Natalie Fritzler      31781.25850\n",
       "Fred Hopkins          30400.67452\n",
       "Jane Waco             30288.45030\n",
       "Hunter Lopez          30243.56658\n",
       "Name: Sales, dtype: float64"
      ]
     },
     "execution_count": 105,
     "metadata": {},
     "output_type": "execute_result"
    }
   ],
   "source": [
    "top_10_customers"
   ]
  },
  {
   "cell_type": "code",
   "execution_count": 106,
   "id": "4bf0e480",
   "metadata": {},
   "outputs": [
    {
     "data": {
      "image/png": "[encoded data removed]",
      "text/plain": [
       "<Figure size 640x480 with 1 Axes>"
      ]
     },
     "metadata": {},
     "output_type": "display_data"
    }
   ],
   "source": [
    "top_10_customers = pd.DataFrame({'Customer Name': top_10_customers.index, 'Sales': top_10_customers})\n",
    "\n",
    "# Plot a bar chart using the plot.bar() method of the DataFrame\n",
    "top_10_customers.plot.barh(x='Customer Name', y='Sales')\n",
    "\n",
    "\n",
    "# Set the axis labels and title\n",
    "plt.xlabel(\"Customer Name\")\n",
    "plt.ylabel(\"Sales\")\n",
    "plt.title(\"Top 10 customers\")\n",
    "\n",
    "\n",
    "\n",
    "\n",
    "\n",
    "# Show the plot\n",
    "plt.show()\n",
    "\n",
    "\n",
    "\n"
   ]
  },
  {
   "cell_type": "markdown",
   "id": "bd9a6173",
   "metadata": {},
   "source": [
    "**RECCOMMENDATIONS** "
   ]
  },
  {
   "cell_type": "code",
   "execution_count": null,
   "id": "1ef42d43",
   "metadata": {},
   "outputs": [],
   "source": [
    "1. There should be a focus on stocking consumer electronics(technology)\n",
    "2. The United States market should be a priority\n",
    "3. Our profits trend peaked in 2014, business structures must be maintained to ensure a steady growth \n",
    "3. For the loyalty program the top ten customers should be awarded."
   ]
  }
 ],
 "metadata": {
  "kernelspec": {
   "display_name": "Python 3 (ipykernel)",
   "language": "python",
   "name": "python3"
  },
  "language_info": {
   "codemirror_mode": {
    "name": "ipython",
    "version": 3
   },
   "file_extension": ".py",
   "mimetype": "text/x-python",
   "name": "python",
   "nbconvert_exporter": "python",
   "pygments_lexer": "ipython3",
   "version": "3.9.13"
  }
 },
 "nbformat": 4,
 "nbformat_minor": 5
}
