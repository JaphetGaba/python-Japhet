{
 "cells": [
  {
   "cell_type": "markdown",
   "id": "0acc2290",
   "metadata": {
    "id": "0acc2290"
   },
   "source": [
    "### OOP Asignment"
   ]
  },
  {
   "cell_type": "markdown",
   "id": "5596f158",
   "metadata": {
    "id": "5596f158"
   },
   "source": [
    "**Kindly read the instructions carefully to solve the problems**\n",
    "\n",
    "**Make good use of try,except,finally and exceptions**"
   ]
  },
  {
   "cell_type": "markdown",
   "id": "478c3dde",
   "metadata": {
    "id": "478c3dde"
   },
   "source": [
    "### Q1 Numbers"
   ]
  },
  {
   "cell_type": "markdown",
   "id": "PPHM5gum2zNf",
   "metadata": {
    "id": "PPHM5gum2zNf"
   },
   "source": []
  },
  {
   "cell_type": "markdown",
   "id": "59ddfbd6",
   "metadata": {
    "id": "59ddfbd6"
   },
   "source": [
    "- Create a Class **Number** initialized with a single number.\n",
    "- Create the following methods for the class:\n",
    "    * check_even : Check if number is an even number (Return True or False)\n",
    "    * check_odd:  Check if number is an odd number (Return True or False)\n",
    "    * check_prime : Check if number is prime number (Return True or False)\n",
    "    * check_perfect: Chek if a number is a perfect square  (Return True or False) eg 100 is a perfect square because 10*10 =100\n",
    "    \n",
    "    "
   ]
  },
  {
   "cell_type": "code",
   "execution_count": 62,
   "id": "RmWMxINifAGx",
   "metadata": {
    "id": "RmWMxINifAGx"
   },
   "outputs": [],
   "source": [
    "\n",
    "class Number():\n",
    "    def __init__(self, num):\n",
    "        self.num = num\n",
    "    \n",
    "    def check_even(self):\n",
    "        return self.num % 2 == 0\n",
    "    \n",
    "    def check_odd(self):\n",
    "        return self.num % 2 != 0\n",
    "    \n",
    "    def check_prime(self):\n",
    "        if self.num < 2:\n",
    "            return False\n",
    "        for i in range(2, int(self.num**0.5)+1):\n",
    "            if self.num % i == 0:\n",
    "                return False\n",
    "        return True\n",
    "    \n",
    "    def check_perfect(self):\n",
    "        sqrt = self.num ** 0.5\n",
    "        return sqrt.is_integer \n",
    "\n",
    "\n",
    "    "
   ]
  },
  {
   "cell_type": "code",
   "execution_count": 54,
   "id": "ORw3nGLP7mDm",
   "metadata": {
    "id": "ORw3nGLP7mDm"
   },
   "outputs": [],
   "source": [
    "num = Number(4)"
   ]
  },
  {
   "cell_type": "code",
   "execution_count": 58,
   "id": "5a313bc1",
   "metadata": {},
   "outputs": [
    {
     "data": {
      "text/plain": [
       "True"
      ]
     },
     "execution_count": 58,
     "metadata": {},
     "output_type": "execute_result"
    }
   ],
   "source": [
    "num.check_even()"
   ]
  },
  {
   "cell_type": "code",
   "execution_count": 57,
   "id": "b1f13167",
   "metadata": {
    "scrolled": true
   },
   "outputs": [
    {
     "data": {
      "text/plain": [
       "False"
      ]
     },
     "execution_count": 57,
     "metadata": {},
     "output_type": "execute_result"
    }
   ],
   "source": [
    "num.check_odd()"
   ]
  },
  {
   "cell_type": "code",
   "execution_count": 56,
   "id": "384da8e0",
   "metadata": {},
   "outputs": [
    {
     "data": {
      "text/plain": [
       "False"
      ]
     },
     "execution_count": 56,
     "metadata": {},
     "output_type": "execute_result"
    }
   ],
   "source": [
    "num.check_prime()"
   ]
  },
  {
   "cell_type": "code",
   "execution_count": 55,
   "id": "1b65acf2",
   "metadata": {},
   "outputs": [
    {
     "data": {
      "text/plain": [
       "True"
      ]
     },
     "execution_count": 55,
     "metadata": {},
     "output_type": "execute_result"
    }
   ],
   "source": [
    "num.check_perfect()"
   ]
  },
  {
   "cell_type": "markdown",
   "id": "2a88331d",
   "metadata": {
    "id": "2a88331d"
   },
   "source": [
    "### Q2 Points"
   ]
  },
  {
   "cell_type": "markdown",
   "id": "e3ea2034",
   "metadata": {
    "id": "e3ea2034"
   },
   "source": [
    "* Define a class Point that represents a point in the 2D plane. The point has x and y coordinate.\n",
    "* Define the following functions:\n",
    "    - point_2D: return the point in this format \"Point(3,2)\"\n",
    "    - getX : return the value of x coordinate\n",
    "    - getY: return the value of y coordiante\n",
    "    - add_transfrom : add another point to the created point. eg P(1,2)+P(2,3) = P(3,5)\n",
    "    - distance_origin : return the distance from origin(0,0)  ie ((x ** 2)+ (y ** 2)) ** 0.5\n",
    "    - distance: calculate the distance between two point i.e ((x2-x1) ** 2 + (y2-y1) ** 2)**0.5\n",
    "    "
   ]
  },
  {
   "cell_type": "code",
   "execution_count": 29,
   "id": "55vExddR-GjD",
   "metadata": {
    "id": "55vExddR-GjD"
   },
   "outputs": [],
   "source": [
    "class Point:\n",
    "    def __init__(self, x, y):\n",
    "        self.x = x\n",
    "        self.y = y   \n",
    "        \n",
    "    def point_2D(self):\n",
    "        return \"Point({}, {})\".format(self.x, self.y)\n",
    "    \n",
    "    def getX(self):\n",
    "        return self.x\n",
    "    \n",
    "    def getY(self):\n",
    "        return self.y\n",
    "    \n",
    "    def add_transform(self, other_point):\n",
    "        return Point(self.x + other_point.x, self.y + other_point.y)\n",
    "    \n",
    "    def distance_origin(self):\n",
    "        return ((self.x ** 2) + (self.y ** 2)) ** 0.5\n",
    "    \n",
    "    def distance(self, other_point):\n",
    "        return ((self.x - other_point.x) ** 2 + (self.y - other_point.y) ** 2) ** 0.5\n",
    "        \n",
    "\n",
    "   "
   ]
  },
  {
   "cell_type": "code",
   "execution_count": 31,
   "id": "sUKnib8gBzF_",
   "metadata": {
    "id": "sUKnib8gBzF_"
   },
   "outputs": [],
   "source": [
    "point_1 = Point(3,4)"
   ]
  },
  {
   "cell_type": "code",
   "execution_count": 32,
   "id": "0f880fbd",
   "metadata": {},
   "outputs": [
    {
     "name": "stdout",
     "output_type": "stream",
     "text": [
      "Point(3, 4)\n"
     ]
    }
   ],
   "source": [
    "print(point_1.point_2D())     \n"
   ]
  },
  {
   "cell_type": "code",
   "execution_count": 33,
   "id": "2d821c09",
   "metadata": {},
   "outputs": [
    {
     "name": "stdout",
     "output_type": "stream",
     "text": [
      "3\n"
     ]
    }
   ],
   "source": [
    "print(point_1.getX())"
   ]
  },
  {
   "cell_type": "code",
   "execution_count": 34,
   "id": "c76b64bc",
   "metadata": {
    "scrolled": true
   },
   "outputs": [
    {
     "name": "stdout",
     "output_type": "stream",
     "text": [
      "4\n"
     ]
    }
   ],
   "source": [
    "print(point_1.getY())  "
   ]
  },
  {
   "cell_type": "code",
   "execution_count": 38,
   "id": "15873e51",
   "metadata": {},
   "outputs": [],
   "source": [
    "point_2 = Point(5,7)"
   ]
  },
  {
   "cell_type": "code",
   "execution_count": 41,
   "id": "9f0e386a",
   "metadata": {},
   "outputs": [
    {
     "name": "stdout",
     "output_type": "stream",
     "text": [
      "Point(8, 11)\n"
     ]
    }
   ],
   "source": [
    "point_3 = point_1.add_transform(point_2)\n",
    "print(point_3.point_2D())  "
   ]
  },
  {
   "cell_type": "code",
   "execution_count": 42,
   "id": "816f7bfa",
   "metadata": {},
   "outputs": [
    {
     "name": "stdout",
     "output_type": "stream",
     "text": [
      "5.0\n"
     ]
    }
   ],
   "source": [
    "print(point_1.distance_origin())"
   ]
  },
  {
   "cell_type": "code",
   "execution_count": 44,
   "id": "eacdaa4c",
   "metadata": {
    "scrolled": true
   },
   "outputs": [
    {
     "name": "stdout",
     "output_type": "stream",
     "text": [
      "3.605551275463989\n"
     ]
    }
   ],
   "source": [
    "print(point_1.distance(point_2))   "
   ]
  },
  {
   "cell_type": "code",
   "execution_count": null,
   "id": "a4b98c77",
   "metadata": {},
   "outputs": [],
   "source": []
  },
  {
   "cell_type": "markdown",
   "id": "acf4db9e",
   "metadata": {
    "id": "acf4db9e"
   },
   "source": [
    "### Q3 Polygon Area Calulator"
   ]
  },
  {
   "cell_type": "markdown",
   "id": "18c26367",
   "metadata": {
    "id": "18c26367"
   },
   "source": [
    "- Using OOP create a **Square** and a **Rectangle** class\n"
   ]
  },
  {
   "cell_type": "markdown",
   "id": "a6d80485",
   "metadata": {
    "id": "a6d80485"
   },
   "source": [
    "#### Rectangle Class"
   ]
  },
  {
   "cell_type": "markdown",
   "id": "915caa6c",
   "metadata": {
    "id": "915caa6c"
   },
   "source": [
    "- The rectangle class should be intialized with `width` and `height` attribute only.\n",
    "\n",
    "- The rectangle class should have the following methods:\n",
    "     - set_width\n",
    "     - set_height\n",
    "     - get_area: Returns area (width * height)\n",
    "     - get_perimeter: Returns perimeter (2 * width        + 2 * height)\n",
    "     - get_diagonal: Returns diagonal ((width ** 2        +  height ** 2) ** .5)\n",
    "     - get_amount_inside: Takes another shape (square or rectangle) as an argument. Returns the number of times the passed in shape could fit inside the shape (with no rotations). **For instance, a rectangle with a width of 4 and a height of 8 could fit in two squares with sides of 4.**\n",
    "     \n",
    "    "
   ]
  },
  {
   "cell_type": "code",
   "execution_count": 53,
   "id": "9y44qVGXI13I",
   "metadata": {
    "id": "9y44qVGXI13I"
   },
   "outputs": [],
   "source": [
    "class rectangle():\n",
    "    def __init__(self, width, height):\n",
    "        self.width = width\n",
    "        self.height = height\n",
    "    \n",
    "    def set_width(self):\n",
    "        self.width = width\n",
    "    \n",
    "    def set_height(self):\n",
    "        self.height = height\n",
    "    \n",
    "    def get_area(self):\n",
    "        return (self.width * self.height)\n",
    "    \n",
    "    def get_perimeter(self):\n",
    "        return (2 * self.width + 2 * self.height)\n",
    "    \n",
    "    def get_diagonal(self):\n",
    "        return ((self.width ** 2 + self.height ** 2) ** .5)\n",
    "    \n",
    "    def get_amount_inside(self, shape):\n",
    "        if isinstance(shape, Rectangle):\n",
    "            return (self.width // shape.width) * (self.height // shape.height)\n",
    "        elif isinstance(shape, Square):\n",
    "            return (self.width // shape.side) * (self.height // shape.side)\n",
    "        else:\n",
    "            raise TypeError(\"Shape must be a Rectangle or a Square\")\n",
    "        \n",
    "\n"
   ]
  },
  {
   "cell_type": "code",
   "execution_count": 54,
   "id": "8nQ_XXjUR9gm",
   "metadata": {
    "id": "8nQ_XXjUR9gm"
   },
   "outputs": [],
   "source": [
    "rectangle_1 = rectangle(3,4)"
   ]
  },
  {
   "cell_type": "code",
   "execution_count": 55,
   "id": "42f7ef82",
   "metadata": {},
   "outputs": [
    {
     "name": "stdout",
     "output_type": "stream",
     "text": [
      "12\n"
     ]
    }
   ],
   "source": [
    "print(rectangle_1.get_area())"
   ]
  },
  {
   "cell_type": "code",
   "execution_count": 56,
   "id": "2b220eab",
   "metadata": {},
   "outputs": [
    {
     "name": "stdout",
     "output_type": "stream",
     "text": [
      "14\n"
     ]
    }
   ],
   "source": [
    "print(rectangle_1.get_perimeter())"
   ]
  },
  {
   "cell_type": "code",
   "execution_count": 57,
   "id": "8f816057",
   "metadata": {
    "scrolled": true
   },
   "outputs": [
    {
     "name": "stdout",
     "output_type": "stream",
     "text": [
      "5.0\n"
     ]
    }
   ],
   "source": [
    "print(rectangle_1.get_diagonal())"
   ]
  },
  {
   "cell_type": "code",
   "execution_count": 6,
   "id": "ebd1cbc0",
   "metadata": {},
   "outputs": [
    {
     "ename": "NameError",
     "evalue": "name 'rectangle' is not defined",
     "output_type": "error",
     "traceback": [
      "\u001b[1;31m---------------------------------------------------------------------------\u001b[0m",
      "\u001b[1;31mNameError\u001b[0m                                 Traceback (most recent call last)",
      "Input \u001b[1;32mIn [6]\u001b[0m, in \u001b[0;36m<cell line: 1>\u001b[1;34m()\u001b[0m\n\u001b[1;32m----> 1\u001b[0m square_1 \u001b[38;5;241m=\u001b[39m \u001b[43mrectangle\u001b[49m(\u001b[38;5;241m4\u001b[39m)\n",
      "\u001b[1;31mNameError\u001b[0m: name 'rectangle' is not defined"
     ]
    }
   ],
   "source": [
    "square_1 = rectangle_1(4)"
   ]
  },
  {
   "cell_type": "code",
   "execution_count": 5,
   "id": "98826593",
   "metadata": {},
   "outputs": [
    {
     "ename": "NameError",
     "evalue": "name 'rectangle' is not defined",
     "output_type": "error",
     "traceback": [
      "\u001b[1;31m---------------------------------------------------------------------------\u001b[0m",
      "\u001b[1;31mNameError\u001b[0m                                 Traceback (most recent call last)",
      "Input \u001b[1;32mIn [5]\u001b[0m, in \u001b[0;36m<cell line: 1>\u001b[1;34m()\u001b[0m\n\u001b[1;32m----> 1\u001b[0m \u001b[38;5;28mprint\u001b[39m(\u001b[43mrectangle\u001b[49m\u001b[38;5;241m.\u001b[39mget_amount_inside(square_1))\n",
      "\u001b[1;31mNameError\u001b[0m: name 'rectangle' is not defined"
     ]
    }
   ],
   "source": [
    "print(rectangle.get_amount_inside(square_1))"
   ]
  },
  {
   "cell_type": "markdown",
   "id": "28d82897",
   "metadata": {
    "id": "28d82897"
   },
   "source": [
    "### Square class\n"
   ]
  },
  {
   "cell_type": "markdown",
   "id": "b8bb7e5d",
   "metadata": {
    "id": "b8bb7e5d"
   },
   "source": [
    "The Square class should be a subclass of Rectangle. When a Square object is created, a single side length is passed in. The __init__ method should store the side length in both the width and height attributes from the Rectangle class."
   ]
  },
  {
   "cell_type": "markdown",
   "id": "58f0d234",
   "metadata": {
    "id": "58f0d234"
   },
   "source": [
    "### Q4 Banking System"
   ]
  },
  {
   "cell_type": "markdown",
   "id": "4a02e285",
   "metadata": {
    "id": "4a02e285"
   },
   "source": [
    "* Using Python OOP lets create a bank account.\n",
    "* The bank account should be initalized with  first name, last name, gender and **balance with default of 0**\n",
    "* The class should have the following methods:\n",
    "  - **information**: Display the user full name and the balance in his/her account\n",
    "    eg **Delali Adrah your balance is GHC20.00**\n",
    "    \n",
    "  - deposit: Ask the user  how much he or she wants to deposit in his/her account.\n",
    "  \n",
    "  - **withdraw**: Ask the user how muh he/she want to withdraw form his/her account. Transations is successfuly only if he/she have more money in his/her account and display **Delali Adrah you have withdrawn GHC10.00 from your account. Your balance is GHC10.00**\n",
    "  -**no_transactions**: Displays the total number of successful transaction(deposit and withdraw). eg **Delali Adrah you have made 1 successful transaction(s)**\n",
    "  "
   ]
  },
  {
   "cell_type": "code",
   "execution_count": 149,
   "id": "ec433839",
   "metadata": {},
   "outputs": [],
   "source": [
    "class bank_account:\n",
    "    def __init__(self, first_name,last_name,gender,balance=0):\n",
    "        self.first_name = first_name\n",
    "        self.last_name = last_name\n",
    "        self.gender = gender\n",
    "        self.balance = balance\n",
    "        self.transactions = 0\n",
    "    \n",
    "    def information(self):\n",
    "        return f\"{self.first_name} {self.last_name} your balance is GHC{self.balance:.2f}\"\n",
    "    \n",
    "    def deposit(self):\n",
    "        amount = float(input(\"Enter the amount you want to deposit into your accout: \"))\n",
    "        print(f\"{self.first_name} {self.last_name}, GHC{amount} has been deposited into your account\")\n",
    "        \n",
    "    def withdraw(self):\n",
    "        amount = float(input(\"Enter the amount of money you want to withdraw: \"))\n",
    "        if amount > self.balance:\n",
    "            print(f\"{self.first_name} {self.last_name}, you do not have enough funds in your account\")\n",
    "        else:\n",
    "            self.balance -= amount\n",
    "            self.transactions += 1\n",
    "            print(f\"{self.first_name} {self.last_name}, you have withdrawn GHC{amount:.2f} your balance is GHC{self.balance:.2f}\")\n",
    "            \n",
    "    def no_transactions(self):\n",
    "        print(f\"{self.first_name} {self.last_name}, you have made {self.transactions} successful transaction(s)\")\n",
    "        "
   ]
  },
  {
   "cell_type": "code",
   "execution_count": 150,
   "id": "d9efbf4d",
   "metadata": {},
   "outputs": [],
   "source": [
    "Delali = bank_account(\"Delali\", \"Debrah\", \"male\", 20.00)"
   ]
  },
  {
   "cell_type": "code",
   "execution_count": 151,
   "id": "90a41b12",
   "metadata": {
    "scrolled": true
   },
   "outputs": [
    {
     "data": {
      "text/plain": [
       "'Delali Debrah your balance is GHC20.00'"
      ]
     },
     "execution_count": 151,
     "metadata": {},
     "output_type": "execute_result"
    }
   ],
   "source": [
    "Delali.information()"
   ]
  },
  {
   "cell_type": "code",
   "execution_count": 152,
   "id": "06424bdc",
   "metadata": {
    "scrolled": false
   },
   "outputs": [
    {
     "name": "stdout",
     "output_type": "stream",
     "text": [
      "Enter the amount of money you want to withdraw: 10\n",
      "Delali Debrah, you have withdrawn GHC10.00 your balance is GHC10.00\n"
     ]
    }
   ],
   "source": [
    "Delali.withdraw()"
   ]
  },
  {
   "cell_type": "code",
   "execution_count": 153,
   "id": "c54fba79",
   "metadata": {
    "scrolled": true
   },
   "outputs": [
    {
     "name": "stdout",
     "output_type": "stream",
     "text": [
      "Enter the amount you want to deposit into your accout: 400\n",
      "Delali Debrah, GHC400.0 has been deposited into your account\n"
     ]
    }
   ],
   "source": [
    "Delali.deposit()"
   ]
  },
  {
   "cell_type": "code",
   "execution_count": 154,
   "id": "56980d00",
   "metadata": {},
   "outputs": [
    {
     "name": "stdout",
     "output_type": "stream",
     "text": [
      "Delali Debrah, you have made 1 successful transaction(s)\n"
     ]
    }
   ],
   "source": [
    "Delali.no_transactions()"
   ]
  },
  {
   "cell_type": "markdown",
   "id": "c94432a7",
   "metadata": {
    "id": "c94432a7"
   },
   "source": [
    "### Q4 Stacks"
   ]
  },
  {
   "cell_type": "markdown",
   "id": "3fdd4461",
   "metadata": {
    "id": "3fdd4461"
   },
   "source": [
    "A stack is a data structure that stores items in an Last-In/First-Out manner. "
   ]
  },
  {
   "cell_type": "markdown",
   "id": "f0ad4186",
   "metadata": {
    "id": "f0ad4186"
   },
   "source": [
    "1. Create a class Stack with instance variable items initialized to an empty list.\n",
    "2. Define methods push, pop and is_empty inside the class Stack.\n",
    "3. The method push appends data to items.\n",
    "4. The method pop pops the first element in items.\n",
    "5. The method is_empty returns True only if items is empty.\n",
    "6. Method to count the total number of element in the list"
   ]
  },
  {
   "cell_type": "code",
   "execution_count": 155,
   "id": "93aef011",
   "metadata": {
    "id": "93aef011"
   },
   "outputs": [],
   "source": [
    "class Stack:\n",
    "    def __init__(self):\n",
    "        self.items = []\n",
    "        \n",
    "    def push(self, data):\n",
    "        self.items.append(data)\n",
    "    \n",
    "    def pop(self):\n",
    "        if self.is_empty():\n",
    "            return None\n",
    "        else:\n",
    "            return self.items.pop()\n",
    "        \n",
    "    def is_empty(self):\n",
    "        return len(self.items) == 0\n",
    "    \n",
    "    def count(self):\n",
    "        return len(self.items)"
   ]
  },
  {
   "cell_type": "code",
   "execution_count": 40,
   "id": "e2b52cac",
   "metadata": {},
   "outputs": [],
   "source": [
    "stack = Stack()"
   ]
  },
  {
   "cell_type": "code",
   "execution_count": 41,
   "id": "becfbc11",
   "metadata": {},
   "outputs": [],
   "source": [
    "stack.push(25)\n",
    "stack.push(2)"
   ]
  },
  {
   "cell_type": "code",
   "execution_count": 42,
   "id": "9825db3e",
   "metadata": {},
   "outputs": [
    {
     "name": "stdout",
     "output_type": "stream",
     "text": [
      "False\n"
     ]
    }
   ],
   "source": [
    "print(stack.is_empty())"
   ]
  },
  {
   "cell_type": "code",
   "execution_count": 43,
   "id": "42e80aee",
   "metadata": {
    "scrolled": true
   },
   "outputs": [
    {
     "name": "stdout",
     "output_type": "stream",
     "text": [
      "2\n"
     ]
    }
   ],
   "source": [
    "print(stack.count())"
   ]
  },
  {
   "cell_type": "code",
   "execution_count": 157,
   "id": "745ce7fe",
   "metadata": {},
   "outputs": [
    {
     "name": "stdout",
     "output_type": "stream",
     "text": [
      "2\n"
     ]
    }
   ],
   "source": [
    "print(stack.pop())"
   ]
  },
  {
   "cell_type": "code",
   "execution_count": 158,
   "id": "c4dc9eac",
   "metadata": {},
   "outputs": [
    {
     "name": "stdout",
     "output_type": "stream",
     "text": [
      "1\n"
     ]
    }
   ],
   "source": [
    "print(stack.count())"
   ]
  },
  {
   "cell_type": "code",
   "execution_count": null,
   "id": "b1d9869b",
   "metadata": {},
   "outputs": [],
   "source": []
  }
 ],
 "metadata": {
  "colab": {
   "provenance": []
  },
  "kernelspec": {
   "display_name": "Python 3 (ipykernel)",
   "language": "python",
   "name": "python3"
  },
  "language_info": {
   "codemirror_mode": {
    "name": "ipython",
    "version": 3
   },
   "file_extension": ".py",
   "mimetype": "text/x-python",
   "name": "python",
   "nbconvert_exporter": "python",
   "pygments_lexer": "ipython3",
   "version": "3.9.12"
  }
 },
 "nbformat": 4,
 "nbformat_minor": 5
}
